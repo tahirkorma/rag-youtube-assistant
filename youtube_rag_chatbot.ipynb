{
  "nbformat": 4,
  "nbformat_minor": 0,
  "metadata": {
    "colab": {
      "provenance": []
    },
    "kernelspec": {
      "name": "python3",
      "display_name": "Python 3"
    },
    "language_info": {
      "name": "python"
    }
  },
  "cells": [
    {
      "cell_type": "code",
      "execution_count": 1,
      "metadata": {
        "id": "Vjbr7hIuaCjo"
      },
      "outputs": [],
      "source": [
        "import os\n",
        "os.environ['GOOGLE_API_KEY'] = \"Please insert your google studio api key here\""
      ]
    },
    {
      "cell_type": "code",
      "source": [
        "#Install libraries\n",
        "!pip install langchain langchain-community faiss-cpu tiktoken google-generativeai==0.8.5 google-ai-generativelanguage==0.6.15 --upgrade youtube-transcript-api \\\n",
        "langchain-google-genai -q"
      ],
      "metadata": {
        "colab": {
          "base_uri": "https://localhost:8080/"
        },
        "id": "tjNOJWxFasXQ",
        "outputId": "ee111581-0c65-4663-f636-6e519316829b"
      },
      "execution_count": 2,
      "outputs": [
        {
          "output_type": "stream",
          "name": "stdout",
          "text": [
            "\u001b[2K   \u001b[90m━━━━━━━━━━━━━━━━━━━━━━━━━━━━━━━━━━━━━━━━\u001b[0m \u001b[32m2.5/2.5 MB\u001b[0m \u001b[31m3.8 MB/s\u001b[0m eta \u001b[36m0:00:00\u001b[0m\n",
            "\u001b[2K   \u001b[90m━━━━━━━━━━━━━━━━━━━━━━━━━━━━━━━━━━━━━━━━\u001b[0m \u001b[32m31.4/31.4 MB\u001b[0m \u001b[31m22.2 MB/s\u001b[0m eta \u001b[36m0:00:00\u001b[0m\n",
            "\u001b[2K   \u001b[90m━━━━━━━━━━━━━━━━━━━━━━━━━━━━━━━━━━━━━━━━\u001b[0m \u001b[32m485.0/485.0 kB\u001b[0m \u001b[31m23.1 MB/s\u001b[0m eta \u001b[36m0:00:00\u001b[0m\n",
            "\u001b[2K   \u001b[90m━━━━━━━━━━━━━━━━━━━━━━━━━━━━━━━━━━━━━━━━\u001b[0m \u001b[32m42.0/42.0 kB\u001b[0m \u001b[31m2.6 MB/s\u001b[0m eta \u001b[36m0:00:00\u001b[0m\n",
            "\u001b[2K   \u001b[90m━━━━━━━━━━━━━━━━━━━━━━━━━━━━━━━━━━━━━━━━\u001b[0m \u001b[32m50.9/50.9 kB\u001b[0m \u001b[31m3.2 MB/s\u001b[0m eta \u001b[36m0:00:00\u001b[0m\n",
            "\u001b[?25h"
          ]
        }
      ]
    },
    {
      "cell_type": "code",
      "source": [
        "#Import libraries\n",
        "from youtube_transcript_api import YouTubeTranscriptApi, TranscriptsDisabled\n",
        "from langchain.text_splitter import RecursiveCharacterTextSplitter\n",
        "from langchain_google_genai import ChatGoogleGenerativeAI, GoogleGenerativeAIEmbeddings\n",
        "from langchain_community.vectorstores import FAISS\n",
        "from langchain_core.prompts import PromptTemplate\n",
        "from langchain_core.output_parsers import StrOutputParser"
      ],
      "metadata": {
        "id": "lGkT4-NwbOfJ"
      },
      "execution_count": 3,
      "outputs": []
    },
    {
      "cell_type": "markdown",
      "source": [
        "**Step 1a - Indexing (Document Ingestion)**"
      ],
      "metadata": {
        "id": "X6O5tlvXdKHY"
      }
    },
    {
      "cell_type": "code",
      "source": [
        "video_id = 'g1Z4eSq6AAw' # only the ID, not full URL\n",
        "\n",
        "try:\n",
        "  transcript_list = YouTubeTranscriptApi().fetch(video_id, languages=['en','hi']) # If you don’t care which language, this returns the “best” one\n",
        "\n",
        "  transcript = \" \".join(chunk.text for chunk in transcript_list) # Flatten it to plain text\n",
        "  print(transcript)\n",
        "except TranscriptsDisabled:\n",
        "  print(\"No captions available for this video.\")"
      ],
      "metadata": {
        "colab": {
          "base_uri": "https://localhost:8080/"
        },
        "id": "lBTHAQSloelT",
        "outputId": "356091d0-31da-4b30-b3e9-21fb65b4df0d"
      },
      "execution_count": 6,
      "outputs": [
        {
          "output_type": "stream",
          "name": "stdout",
          "text": [
            "Documentary In the north of India, in the city of Agra, \n",
            "stands the Taj Mahal, a monumental mausoleum   of white marble built almost 400 years ago on the \n",
            "banks of the sacred Yamuna River. I don't think a   building like this will ever be created again. The \n",
            "dome of this mythical building towers 73 meters,   marking the heart of a vast architectural complex \n",
            "stretching 177,000 square meters. It's absolutely   grand in scale. So the Taj can really be seen \n",
            "from the moon or from two centimeters away,   and it's perfect. The Taj Mahal is a symbol \n",
            "of perfection. The Mughal emperor Shah Jahan   ordered it built in the 17th century as a monument \n",
            "of love, in memory of his wife Mumtaz Mahal. Today   it is one of the ten most visited monuments in \n",
            "the world with nearly 7 million visitors each   year. The extraordinary mausoleum took builders \n",
            "just 18 years to complete and is considered one   of the seven wonders of the modern world. It \n",
            "is a masterpiece of architecture and I think   it was built as a masterpiece. But it's also \n",
            "one of the most mysterious with many secrets   still to be revealed. What most people don't \n",
            "realize is that it is not a building built   in marble. By scanning the mausoleum from \n",
            "the satellite scale to the molecular scale,   engineers can explore this monumental structure as \n",
            "never before. We can reach magnification levels of   15,000 to 50,000. The enormity of scale from \n",
            "the micro to the macro, from the minuscule to   the urban, is really something that makes the Taj \n",
            "absolutely unique. New aerial imagery exposes the   genius of the architects and the secrets of its \n",
            "incredible layout. The Taj Mahal looks perfect,   but in fact it's imperfect, a little bit like \n",
            "the Parthenon in Athens. It gives visitors   the impression of perfection when it's not. How \n",
            "did builders complete this colossal construction   in under 20 years, when it took creators of \n",
            "the Notre Dame Cathedral more than a century?   People do not realize that such a complex piece \n",
            "of construction can be executed in a short time.   What construction techniques, invisible to the \n",
            "naked eye, are hidden deep within the structure?   I have the mortar sample that I'll insert into the \n",
            "scanning electron microscope in order to identify   the minerals that are present in the mortar. How \n",
            "did builders manage to construct a monument of   this magnitude on the unstable banks of a river, \n",
            "even though the mausoleum alone weighs 25,000   tons. The building managed to survive all kinds \n",
            "of floods, earthquakes, and heavy rains. History,   science, engineering, exposed as never before, \n",
            "the Taj Mahal finally reveals reveals itself   on every scale. The Taj Mahal was built nearly \n",
            "400 years ago at the heart of the city of Agra,   the former capital of the Mughal Empire. \n",
            "The marble mausoleum is octagonal in shape,   stretching 58 meters on each side and soaring \n",
            "73 meters tall, sitting on a base almost 100   meters long. Taj Mahal, in many ways, is \n",
            "hyperreal. While we are in this reality,   we are experiencing something that is completely \n",
            "out of this world. I don't think a building like   this will ever be created again. Today, the \n",
            "Taj Mahal is listed as a World Heritage Site.   It is a masterpiece of architecture, and I \n",
            "think it was built as a masterpiece. I love this   building because it transports me into a different \n",
            "realm and again to realize that such a complex   piece of construction can be executed in a short \n",
            "time. How did builders complete the construction   of one of the greatest architectural complexes in \n",
            "the Indian world in just 18 years? When visitors   discover the Taj Mahal, they're impressed by \n",
            "the grandeur of the monument and its richness,   with all the materials that are used in its \n",
            "construction, the marble in particular. But   that's actually just a shell, an envelope. What \n",
            "most people don't realize about the Taj Mahal is   that it is not a building built in marble. Clues \n",
            "to expose the secrets of its rapid construction   can be found in New Delhi, 200 kilometers \n",
            "north of Agra, at another mausoleum,   the Tomb of Rahim. Many archaeologists consider \n",
            "this monument to be the little brother of the   Taj Mahal. It was built 50 years earlier. \n",
            "Over time, the monument has been plundered,   stripped of its most precious materials. It \n",
            "offers scientists a unique opportunity to   explore construction techniques that builders of \n",
            "the Taj Mahal also used. Examining the structure   at a macroscopic scale shows the original \n",
            "marble casing conceals other materials. It   does help understanding how the Taj Mahal is \n",
            "built because the white marble blocks, huge   blocks of white marble that make the dome of Taj \n",
            "Mahal is built, because the white marble blocks,   huge blocks of white marble that make the dome \n",
            "of Taj Mahal are really resting on brick masonry   and stone masonry below. A 3D reconstruction \n",
            "reveals how the dome of the Taj Mahal was built.   Historically, this is how the Taj Mahal \n",
            "and all of these monuments were built,   where imported expensive stone such as marble \n",
            "and red sandstone was only the top 8 to 10   inches. And the interior was built of local stone, \n",
            "random rubble masonry. So how did this building   technique speed up construction? The speed of the \n",
            "construction of the Taj Mahal can be explained   by the materials utilized by the many builders \n",
            "who worked on this site. About 20,000 workers,   according to the chronicles of the time. \n",
            "Scientists think that the use of brick as   a framework offered builders a major advantage. \n",
            "Brick is also a material that's made locally,   so you have complete control over it right \n",
            "from its conception, as opposed to sandstone,   where you might have to quarry a lot before \n",
            "you get the perfect bits. And most importantly,   brick can be manufactured a lot more locally than \n",
            "sandstone or marble, which has to be brought in   from a large distance away. or marble, which has \n",
            "to be brought in from a large distance away. Brick   manufacture doesn't require complex logistics. \n",
            "Today, very close to the Taj Mahal, the principles   of production are almost identical. The clay, \n",
            "design techniques, and firing are all similar   to those used by 17th century builders. First, \n",
            "we dig the earth. then we add salt and water.   To make the bricks we put sand in the \n",
            "mold, then we put clay in the mold,   and then the brick starts to come out. The bricks \n",
            "are dried in the sun, before being stacked in a   circular kiln dug into the ground, an oven that \n",
            "runs nonstop. It's filled up in sequence. Every   day, 40,000 bricks are put into the kiln. 40,000 \n",
            "bricks are fired, and 40,000 bricks are taken out.   While workers stack new bricks, others remove the \n",
            "fired bricks so that production never stops. Look   at the technique. The spacing is made so that \n",
            "when the coal is put in, it reaches directly   to the ground below. The heat rises and bakes \n",
            "all the bricks. A 3D reconstruction exposes how   the brick factory functions. It's a perpetual \n",
            "circle, which allows workers to fire thousands   of bricks continuously. The central chimney \n",
            "evacuates fumes from the base, accelerating and   regulating the process of cooking. This is a vent \n",
            "for the chimney. It's closed now. It's a tunnel to   the chimney. There are a total of 20 tunnels in \n",
            "a circle here. All of them lead to the chimney.   The bricks will be fired for almost a week, with a \n",
            "peak temperature reaching almost 1,000 degrees. A   factory of this size produces 1.2 million bricks \n",
            "per month. Bricks were thinner at the time of   the emperor Shah Jahan. Factories were created \n",
            "on site according to need. Using clay from the   banks of the Yamuna River, the proximity and ease \n",
            "of production helps explain the speed of building   at the Taj Mahal. Constructing in brick allows \n",
            "you to build much bigger buildings than if you   did just with stone. It allows you greater control \n",
            "over the shape of the building. By using bricks,   builders could create taller structures \n",
            "rapidly. Thanks to the latest technology,   scientists can strip the Taj Mahal of \n",
            "its cladding and expose its true form,   a skeleton made of brick. The Taj Mahal's \n",
            "dome hides a secret, too. From the outside,   it appears to be a single dome measuring 18 \n",
            "meters in diameter and 73 meters tall. Looking at   the Taj, most people do not realize that the big \n",
            "central dome is actually a double dome. Building   two domes on top of each other allowed architects \n",
            "to build faster and more efficiently. The marble   cladding on the outside obscures the true double \n",
            "structure hidden inside. For the Taj Mahal,   we have two domes that were built. It's an effect \n",
            "which the architect wanted. So it gives this   impression to the visitor when they enter the Taj \n",
            "Mahal. An impression of grandeur with the first   big dome and inside, a smaller one. The ceiling \n",
            "of the interior dome is just 35 meters high,   while the exterior dome towers 38 meters above. \n",
            "The genius of the architects was to engineer   a light structure made with brick that could be \n",
            "built quickly, a giant framework hidden by white   marble cladding. To manage all these works is \n",
            "something phenomenal. It's really an industrial   project in a pre-industrial age. The craftsmanship \n",
            "is of the highest order. This indeed is a royal   commission and of the richest empire in the world \n",
            "at that time. The use of bricks for the Taj Mahal   explains the speed of construction. The internal \n",
            "skeleton can be exposed with the latest technology   by stripping lining to show how far ahead of their \n",
            "time engineers were and how they made the building   of this monumental structure so efficient. \n",
            "The Taj Mahal is an architectural masterpiece,   built 400 years ago on the outskirts of the former \n",
            "capital of the Mughal Empire, Agra, on the banks   of the sacred Yamuna River, a funerary mausoleum \n",
            "built by the emperor Shah Jahan in memory of his   late wife, Mumtaz Mahal. But why did the emperor \n",
            "choose to build the mausoleum on this site, on   soft ground that would make the construction more \n",
            "challenging? Examining the site on the satellite   scale reveals the secret of its location. \n",
            "MB Rajani is an archaeologist who analyzes   geospatial data. MIMI RAJANI, Geospatial data is \n",
            "a large umbrella under which satellite imagery,   GIS tools and techniques, GPS. I use satellite \n",
            "imagery and the associated technologies to study   archaeological landscape. The study of satellite \n",
            "data alongside field observations reveals that   the Taj Mahal is surrounded by several dozen \n",
            "structures spread along the Yamuna River. We   use satellite imagery to understand what the \n",
            "layout is like. And sometimes these layouts   remain as what we call crop mark, which means \n",
            "in the vegetation patterns. Or sometimes in road   patterns, we see these patterns. So using these, \n",
            "we could identify all these 50 riverfront gardens,   which form the center of the Shahjani Agra. \n",
            "These structures are the remains of ancient   pleasure gardens. In the 17th century, the city \n",
            "of Agra was the capital of the Mughal Empire,   which dominated India. The elites of the empire \n",
            "built huge gardens along this river. 3D imagery   exposes the extent of these structures at the \n",
            "time. These riverfront gardens, that was the core   of the Shahjahan's layout of Agra. So all these \n",
            "were square or rectangular patches of land. It   was for either the royal family or the nobility. \n",
            "Pleasure gardens in these prime locations were   a mark of power that only the most influential \n",
            "families could afford. And the gardens of the Taj   Mahal were amongst the most beautiful. Examining \n",
            "the Taj Mahal and its gardens by satellite reveals   the incredible precision of their positioning. \n",
            "So Taj Mahal's location was very important   because he laid it out very interestingly. \n",
            "If you look at the layout of Taj Mahal,   you draw an axis. It goes straight north-south. \n",
            "None of the other gardens are aligned that way. So   I think that location was very carefully chosen by \n",
            "Shahjahan. Aligning the monument and its gardens,   according to the cardinal points, ensure the \n",
            "prominence of the Taj Mahal alongside other   gardens. But why did the architects choose to \n",
            "build alongside a meandering river, limiting the   view of the mausoleum? To solve this mystery, we \n",
            "must examine the monument from the river. We are   fairly sure that the Taj would have been enjoyed \n",
            "from the riverside and also from within the river,   from boats. So if you're coming from north and \n",
            "you're coming down this very interesting loop, Taj   Mahal reveals itself. You know, it's almost like \n",
            "a secret coming. So I think that was also a very   well-planned location to show the magnificence, \n",
            "even if you are approaching by boat. The Taj Mahal   is part of a series of gardens reserved for the \n",
            "elite of the country at the time of Shah Jahan.   One of them in particular intrigues researchers \n",
            "and is the subject of legend. Analyzing satellite   images exposes an enclosure of the same size \n",
            "as the Taj Mahal, located directly opposite   on the other side of the river. What intrigues \n",
            "researchers is that this structure has exactly   the same proportions as the enclosure of the Taj \n",
            "Mahal. There is a myth that a similar building   was meant to be constructed on the other bank of \n",
            "the river in black marble. Legend has it that the   emperor planned to build his own mausoleum \n",
            "in front of the Taj Mahal. But researchers   refute this idea. There is no evidence of this \n",
            "black Taj. And also there is not much evidence,   I think, in the remains over there that it was \n",
            "any time planned. With no scientific evidence to   support the existence of a black Taj Mahal, \n",
            "what is the function of the enclosure? Now,   thanks to geospatial data, archaeologists have \n",
            "a new interpretation. We know that there is a   garden bang opposite the Taj Mahal. And the Taj \n",
            "certainly was meant to be enjoyed from across the   river visually. across the river visually. This \n",
            "is Mehtaab Bagh, which is right on the north side   of Taj. As you can see, Taj is there, and we are \n",
            "on this side, and we have the river in between.   So it's right on the opposite of Taj. And the \n",
            "layout of Mehtaab Bagh is a mirror image of   Taj's layout. Archaeologists have found traces \n",
            "of a platform that might have formed the base   of a pleasure pavilion. So I think it's one of \n",
            "the best views from here of the Taj Mahal. And   no wonder Shahjahan wanted to experience it for \n",
            "himself, and he had this Mehtaap Bagh made as a   pavilion to view this beautiful monument from. \n",
            "Archaeologists think the enclosure opposite the   Taj Mahal was an integral part of the monument's \n",
            "layout, exposing the vision of the architects.   The recent revelations have allowed a complete \n",
            "reassessment of the site. But how exactly did   this architectural ensemble appear at the time? \n",
            "To answer this question, experts study the most   recent aerial images and build their ideas on a \n",
            "particular theory. At the time of the emperor,   monuments and constructions were based on \n",
            "symmetry. Even ancillary buildings that you see in   the taj complex are built absolutely symmetrically \n",
            "the gardens are laid out in symmetrical ways and a   central flowing stream of water becomes the axis \n",
            "along which this symmetry is divided symmetry is   a very known idea and very prominent in islamic \n",
            "architecture in general and of course in Mughal   architecture. So you will see most of Taj Mahal \n",
            "has symmetry everywhere. Examining the Taj Mahal   today exposes an obvious symmetry when seen \n",
            "from the front. It is placed centrally between   two monuments, a mosque and a pavilion for \n",
            "guests, identical constructions. But examining   the site on a satellite scale reveals that the \n",
            "mausoleum itself is placed on one end rather   than centrally. Taj Mahal layout itself is laid \n",
            "out in a rectangle. And if you draw an axis line,   it is mirror imaging on either side. But what \n",
            "is important is the central line is north-south,   true north to true south aligned. And \n",
            "also Taj Mahal is placed at the top end,   north end of the layout. Why is the Taj Mahal not \n",
            "in the center of this complex when the architects   of the time based everything on balance? Is this \n",
            "a mistake or an aesthetic choice? New technology,   such as the analysis of satellite images, makes it \n",
            "possible to reinterpret the layout of the monument   and reveal clues about what the site, obscuring \n",
            "any remnants of the past. A location where people   continue to live gets built over, gets reused and \n",
            "redone. But seeing a satellite image, we are able   to see the larger layout. So my work can show what \n",
            "has been the evolution of how the landscape has   been used from the time it was initially built \n",
            "till now. So if you look at a satellite image,   the area south of the main entrance of Taj \n",
            "Mahal also has a pattern, a square pattern,   which is of the same measurement as one of \n",
            "the sections of Taj Mahal also has a pattern,   a square pattern, which is of the same measurement \n",
            "as one of the sections of Taj Mahal garden. You   see that wall? I think that's part of the old wall \n",
            "of the Sarai. This monumental structure, identical   in size to the other enclosures surrounding \n",
            "the Taj Mahal, could be a caravan Sarai,   a place of welcome for travelers, in the form \n",
            "of a large courtyard that could house merchants,   pilgrims, and their animals. These buildings, \n",
            "which can be reconstructed in 3-D, were therefore   an integral part of the Taj Mahal complex \n",
            "at the time of its construction. Over time,   because this has been lived in, and people have \n",
            "built over it, sort of, the old structures must   have deteriorated and built over it. The analysis \n",
            "of the satellite images is corroborated by   observations on the ground, like this gateway in \n",
            "the heart of the old city of Agra. This gateway   is very typical of Mughal gateways, and what you \n",
            "have is a height that can allow an elephant with a   rider to pass through. There's a terrace up there. \n",
            "Can we take a look? OK. This gateway in the heart   of the old city could be directly linked to the \n",
            "Taj Mahal. This is the Dakhani Darwaza. The name   comes from the direction word for south, and \n",
            "the Dakhani Darwaza faces south. And it's right   on axis with the Taj Mahal. And so it's very \n",
            "clear that this would be the first gate that   you would pass through in procession to get to \n",
            "the Taj Mahal. And this is the first of the many   spaces you encounter as you come to the actual \n",
            "marble monument itself. The architectural complex   that surrounds the mausoleum was much larger than \n",
            "today. New technology has allowed investigators to   re-evaluate the positioning of the Taj Mahal. \n",
            "has allowed investigators to reevaluate the   positioning of the Taj Mahal. If the complex is \n",
            "enlarged by an enclosure to the south, it makes   experts reconsider what lies to the north, the \n",
            "gardens known as the mettebag and the sacred   Yamuna River itself. So when we see satellite \n",
            "image of this area, we can clearly see the   Taj complex itself, where the monument is in the \n",
            "center and the mosque and the Mahmoud Khan on the   other side, the garden laid out in the square with \n",
            "its axial paths, and on the south of it is the   layout of the entrance complex. By using satellite \n",
            "imagery, we see that the symmetry is there in   larger scale and larger layout as well. This \n",
            "re-evaluation of the site gives the sacred Yamuna   River a major role as a natural feature in which \n",
            "the mausoleum is reflected, a stroke of genius   from the architects of the Taj Mahal. And so one \n",
            "must not limit the Taj Mahal to being a site that   is only on this bank of the river. But think of it \n",
            "again as a much larger urban area in which this is   the centerpiece, but the rest of the gardens on \n",
            "both banks of the river are to be considered part   of the same Taj Mahal complex. The whole site is \n",
            "not complete unless we appreciate what the site   stands for and not just a single building on a \n",
            "pedestal. Thanks to new investigation techniques,   researchers can determine that the architectural \n",
            "complex of the Taj Mahal was nearly three times   larger than today, exposing the talents of \n",
            "builders who place this mausoleum in the center   of a monumental architectural complex of 475,000 \n",
            "square meters, the equivalent of 66 soccer fields.   In the heart of India rises the Taj Mahal, \n",
            "a monumental mausoleum whose dome soars 73   meters high, overlooking the sacred Yamuna \n",
            "River. How could a monument of this size be   built on the shifting banks of one of the \n",
            "largest rivers in India? Building the Taj   Mahal was incredibly difficult because \n",
            "of the terrain in which it is located.   The builders had two major challenges to take into \n",
            "account when constructing the Taj Mahal. The first   was the weight of the building. Since the ground \n",
            "supporting it There are two major challenges   to take into account when constructing the Taj \n",
            "Mahal. The first was the weight of the building,   since the ground supporting it had to withstand \n",
            "about 25 tons of pressure per square meter,   which is enormous. Then its location next to \n",
            "the Amuna river, which is known to have strong   sedimentation resulting in extensive erosion. \n",
            "Scientists have analyzed the subsoil of the Taj   Mahal and discovered a mixture of clay and silty \n",
            "deposits, extremely loose particles unsuitable   for supporting a 25,000-ton monument. You cannot \n",
            "build a building like this on soft soil unless   you have very firm foundations. You have to \n",
            "create some kind of solid base. So how is the   monumental structure of the Taj Mahal supported? \n",
            "The foundations are inaccessible to investigators,   buried several meters deep under the building. \n",
            "But clues can be found by examining soils by   georadar and analyzing materials with a \n",
            "scanning electron microscope. Scientists   want to understand how builders manage to \n",
            "construct the monument at this site. We   want to obtain accurate maps of what we would be \n",
            "likely to find during archaeological excavations,   but without having to dig. The geophysical \n",
            "investigations allow us to see elements at depth   and produce a detailed map of the subsoil. \n",
            "Scientists have used GEO-Radar to discover a   layer of hard soil, located at about 19 meters in \n",
            "depth. A sandstone layer several meters thick on   which the foundations of the mausoleum rest. But \n",
            "how did the Mughal architects create foundations   strong enough to support a 25,000 ton structure? \n",
            "To understand, investigators examine the banks   of the Yamuna River a few kilometers south of \n",
            "the site. Pushkar Sahoni is a specialist in   Indo-Islamic architecture. What appear to be wells \n",
            "are actually the piles that hold up this retaining   wall against the massive river of the Yamuna. And \n",
            "piles like this were made inside the riverbed.   Here is an example of this kind of pile. What you \n",
            "have here, I'm standing in the center of a masonry   well that is completely filled in with rubble and \n",
            "mortar. And this creates a pile inside the sandy   banks of the river. And so it can support a big \n",
            "weight, not just of me, but a million of me, which   would maybe make up the weight of the Taj Mahal. \n",
            "3D reconstructions exposed the principle of the   foundation well. Engineers designed brick wells, \n",
            "stretching all the way to the harder ground below.   They dug directly into the clay soils, searching \n",
            "for the hard ground to create a footing. Then they   inserted a vertical wooden piling and filled in \n",
            "around it with material. Stonemasons used mortar   to waterproof the tanks. But how did they produce \n",
            "a waterproof mortar when artificial cement would   not be invented until two centuries later? \n",
            "The lime used in traditional mortars of the   time wasn't enough to make it waterproof. The \n",
            "mortar used for the construction of the Taj   Mahal is a lime mortar. But for the construction \n",
            "of the wells, they used a mortar that allowed a   better resistance to water and erosion. They added \n",
            "elements that made the mortar impermeable. So what   is the secret of this water-resistant mortar? \n",
            "Now studying the mortar at a microscopic scale   exposes clues. So here I have the mortar sample, \n",
            "in powder form, that I will insert into the   scanning electron microscope in order to identify \n",
            "all the minerals that are present in the mortar.   The electron microscope bombards the material \n",
            "that will be studied with electrons. First,   the mortar is placed in a vacuum chamber. It's \n",
            "like going on a spacewalk. Astronauts can't be   sent directly into space. They have to go through \n",
            "a decompression chamber. As the electrons transmit   through the sample, a very high resolution image \n",
            "of the material surface structure is revealed. So   here we start to see the mortar and the minerals \n",
            "it's made of. We can achieve a magnification of   between 10,000 and 50,000, compared to optical \n",
            "microscopes, which reach a magnification of just   1,500. The microscopic study reveals that this \n",
            "mortar is not only made of minerals. We can see   that the mortar is also made up of small grains, \n",
            "whose appearance is reminiscent of the morphology   of plants. And probably it's actually seeds. It's \n",
            "quite surprising to find plant debris in mortar.   Several types of plants have been identified. I \n",
            "also isolated black particles. It's hard to tell   if they are mineral or plant species. But they \n",
            "could be spices, like pepper, for example. By   analyzing the composition of the mortar under \n",
            "the microscope, scientists have discovered the   presence of many natural materials. Sugar, spices, \n",
            "chickpea flour, a local fruit, and tree resin.   Investigators have shown that the ingredients have \n",
            "highly impermeable properties. This analysis of   the mortar, coupled with the analysis and mapping \n",
            "of the geophysical surveys, allows us to establish   a more precise plan of the foundations. A 3D model \n",
            "exposes the scale of the Taj Mahal's foundations.   Hundreds of shafts support the phenomenal \n",
            "weight of the monument across nearly 35,000   square meters. So what you have in effect is \n",
            "something that almost looks like a bed of nails   turned upside down on which the building is built. \n",
            "Of course, the nails we are talking of are nails   that are large and also very deep. The shafts \n",
            "are connected to each other by brick arches,   which distribute the weight. A 3D image of \n",
            "the foundations exposes the talent of the Taj   Mahal's engineers, who built a solid and efficient \n",
            "structure that would survive the centuries. As we   can see, the building has stood the test of time \n",
            "completely. It has managed to survive all kinds   of floods, earthquakes, and heavy rains. Today, \n",
            "however, scientists are alarmed by the Yamuna   River's decreasing water level. Records of drought \n",
            "and heat taken each year suggest a looming threat   to the structure of the Taj Mahal's foundations. \n",
            "A key element of each foundation shaft is the wood   that runs through them, wood that survived until \n",
            "today, because the foundations were submerged by   river water, creating an oxygen-free environment. \n",
            "The fact that the wood is dry when it has been wet   for hundreds of years will create instabilities \n",
            "to the supports of the platform and therefore the   monument itself. This will create fragility. So \n",
            "there's a regular monitoring of these foundation   shafts. Despite the environmental risks, the Taj \n",
            "Mahal remains one of the most stable monuments   in the Indo-Islamic world thanks to revolutionary \n",
            "construction techniques. The Taj Mahal represents   an amalgamation of construction techniques \n",
            "which do not only come from India. They are   also imported from Central Asia, from the Iranian \n",
            "world. These are notably used in the construction   of military works, forts and also dams. The \n",
            "foundations of the mausoleum are inspired by   military architecture and civil engineering and \n",
            "are intended to be indestructible. They represent   the most successful construction techniques of \n",
            "Asia at the time of the Emperor Shah Jahan. The   Taj Mahal was built by the Emperor Shah Jahan \n",
            "400 years ago, after the death of his wife.   Today it's a symbol of beauty. Millions of \n",
            "visitors come every year to admire this icon   of perfection. But what is the secret \n",
            "to its appearance? This architectural   masterpiece shines because of the marble \n",
            "that covers the monument. The magic of   the Taj Mahal lies in its changing color. \n",
            "Gray, blue, pink, white, orange. You have   marble. It has grain that is slightly gray and \n",
            "black. And it lends itself to very pleasing,   changing surfaces. It interacts with the \n",
            "atmosphere. It interacts with the weather   and looks different in different kinds of light in \n",
            "different seasons. This transforming color palette   is due to the specific marble chosen by architects \n",
            "to cover the Taj Mahal. It's a unique stone.   Examining samples under the microscope reveals \n",
            "that it's composed of dolomite, a mineral more   resistant than limestone, but with other similar \n",
            "properties, especially its exceptional capacity   to reflect the light. This marble comes from the \n",
            "Makrana mines, 400 kilometers from the Taj Mahal.   Examining the area on a satellite scale exposes \n",
            "deep gashes that pierce the ground surface. At   the foot of the Aravali mountain range, there \n",
            "are more than 400 quarries that still extract   Makrana marble. The mine is spread over 20 \n",
            "kilometers. Now we have reached 90 meters   deep. It will never run out. There will always \n",
            "be marble. There have been surveys up to 300   meters deep. There will always be marble. There \n",
            "have been surveys up to 300 meters deep. This rock   was formed nearly 400 million years ago by a rise \n",
            "in temperature and pressure deep within the earth.   Impurities in the minerals create its unique \n",
            "color and its marbling, features which make   Makrana marble unique. This marble came out of the \n",
            "mine and weighs five tons. It will be brought to   the factory by truck, and then it will be cut. \n",
            "When the Taj Mahal was built, Makrana marble   from these mines was cut into slabs by stonemasons \n",
            "before being transported to the building site. The   brilliance of the stone would become the defining \n",
            "feature of the monument. However, a few years ago,   scientists realized that the marble was losing its \n",
            "shine and becoming yellow. There was an enormous   problem with deposits of several hundred years \n",
            "that had accumulated on the marble. And these   had to be removed because they were giving the \n",
            "Taj Mahal a permanent yellow tinge. So how do   you restore the splendor and shine of marble? \n",
            "Engineers in charge of cleaning the monument   found a solution that was inspired by ancient \n",
            "techniques, avoiding the irreversible damage   caused by many modern chemical substances. And \n",
            "this was done using a variety of treatments,   mostly reversible and natural treatments, such \n",
            "as using Multani Mitti or Fuehler's Earth as a   poultice on the surfaces, which would absorb \n",
            "all the contaminants. This cleaning technique   sometimes appears to be more like a beauty \n",
            "treatment than a maintenance procedure.   The cleaning processes that have been used on the \n",
            "Taj have involved Multani Mitti, which is used   commonly as a face pack. And the same is happening \n",
            "with the Taj, where Multani Mitti has been used to   cover the face of this beautiful maiden, and \n",
            "then it's been removed to make it glow again,   timelessly. The secret of this technique's success \n",
            "can be revealed by modern science. Examining the   mixture on a molecular scale exposes a bentonite \n",
            "clay called Multani-Miti. This volcanic clay   is composed of potassium, sodium, calcium, and \n",
            "aluminum, molecules with the property of absorbing   toxins from the rock to restore its purity. Ground \n",
            "to a powder and spread on the marble, it becomes   a perfect beauty mask for the iconic Taj Mahal. \n",
            "Unfortunately, this marble also looks different in   different kinds of pollution. And so a number of \n",
            "air polluting industries around the area were shut   down in the previous few decades. To mitigate the \n",
            "risks of pollution, the Indian authorities have   excluded all polluting industries in a 10,400 \n",
            "square kilometer area around the Taj Mahal,   and banned motor vehicles in a four kilometer \n",
            "square radius around the monument. Today, the Taj   Mahal shines as if it's new, impressing the \n",
            "millions of visitors who come to marvel at its   perfection each year. impressing the millions of \n",
            "visitors who come to marvel at its perfection each   year. But does the Taj Mahal really achieve true \n",
            "perfection? And how can perfection be evaluated?   The monument appears to be perfectly balanced \n",
            "and symmetrical. It stretches 60 meters on each   side and its dome towers 73 meters high. The Taj \n",
            "Dome is a central attraction. When you see the   monument, the dome is so huge and so beautiful, it \n",
            "almost looks like a balloon that is going to lift   the rest of the monument up. To the naked eye, \n",
            "the dome appears to be perfectly proportioned.   It was a colleague of mine who said the dome is \n",
            "not a symmetry. I found it very strange to believe   this. So in order to check that, we took the \n",
            "center of the drum and the center of the finial,   and we drew a central line. And we took \n",
            "equidistant intervals, and we measured the   right side and measured the left. So here, the \n",
            "drum is equal, but as you see, one side of the   curve bulges more than the left side of the curve. \n",
            "So the largest bulge is about 62 centimeters. The   62 centimeter difference between the two curves \n",
            "of the dome is a notable difference in terms of   construction, even if it's not obvious visually. \n",
            "It's a three-dimensional object, between the two   curves of the dome is a notable difference \n",
            "in terms of construction, even if it's not   obvious visually. It's a three-dimensional \n",
            "object, so it has this onion-shaped exterior,   and the interior is hollow. So it's not easy to \n",
            "have a plumb line in the center from which you   can measure when you're building. So I don't think \n",
            "it was an intentional asymmetry. I think it is a   complexity of a three dimension. And there are \n",
            "other anomalies identified by archaeologists.   Using modern measurement techniques, such \n",
            "as photogrammetry and laser measurements,   investigators discovered that the Taj Mahal has \n",
            "symmetry defects in other symbolic areas of the   building such as the minarets. It's been a bit as \n",
            "you can see that's likely to did out word. I don't   think it is a imperfection or a mistake I think it \n",
            "that is a deliberate kind of tilt because in case   there was a way and the minute had to fall off \n",
            "if it was straight it was quite likely it would   fall on the monument and damage the monument. So \n",
            "I wouldn't call it imperfect, but it is a part of   the design. For some archaeologists, these are not \n",
            "mistakes, but deliberate decisions by architects,   whether for structural reasons in the case of \n",
            "the minarets or for geometric reasons to trick   the eye. It's a perspective to give visitors \n",
            "an impression of geometry and perfection,   even when it's not the case. From the start, we \n",
            "have a construction with elements deliberately   misdirected to give the viewer that sense of \n",
            "geometric perfection. Even the imperfections   of the Taj Mahal, whether intentional or not, \n",
            "serve the splendor of the monument and reveal   the harmony that its architects aimed for. If you \n",
            "say perfection is by precise measurement, then you   can find flaws. So I think perfection in itself \n",
            "has both subjective and objective connotations.   So however it is, I think it's a very beautiful \n",
            "and breathtaking monument, no doubt, whether you   call it perfect or imperfect. The magnificence of \n",
            "the Taj Mahal goes beyond its incredible symmetry   and gigantic proportions. The walls of the \n",
            "facade and the interior of the mausoleum   are decorated with thousands of floral patterns. \n",
            "But how could the monument's builders have created   such intricate and colorful detail in marble, a \n",
            "particularly hard rock? Analyzing the patterns in   detail reveals that they are formed from stones \n",
            "inlaid into marble. It's a technique still used   today by the descendants of the craftsmen who \n",
            "worked on the Taj Mahal 400 years ago. worked   on the Taj Mahal 400 years ago. We're currently \n",
            "placing the mortar to inlay the gemstones. The   technique is called pietra dura, the inlay of \n",
            "precious stones. Here, they cut the stones. The   design of the flower is made here. Some of the \n",
            "colorful gems used in the Taj Mahal aren't found   in India. A recent study by the Gemological \n",
            "Institute of America has discovered the exact   provenance of each of the stones in the Taj Mahal, \n",
            "revealing that the stones were sourced from all   over the world. The Taj Mahal was planned as one \n",
            "of the symbolic monuments of the empire of Shah   Jahan, and that was reinforced by using precious \n",
            "stones sourced from all over the empire. So there   are garnets that come directly from India, lapis \n",
            "lazuli from Afghanistan, carnelian from outside   the empire from the Iranian and Iraqi world. Other \n",
            "stones came from even further away. Emeralds mined   in the Americas arrived by boat. Amber from Europe \n",
            "was transported over land. Diamonds came from   Africa. Lapis lazuli from Iran. Stones from far \n",
            "beyond the Mughal Empire. The fact that the Mughal   Empire was an agricultural and also military power \n",
            "allowed the development of a whole network of   roads throughout the empire. And these roads also \n",
            "served to supply materials to the great capitals   of this period under Shah Jahan. By choosing \n",
            "precious stones from all over the planet, builders   wanted to symbolically place the Taj Mahal at \n",
            "the center of the world. Researchers today are   still impressed by the sheer magnitude of the \n",
            "detailed stonework carried out at the Taj Mahal.   The use of these different materials, these \n",
            "precious stones, is exceptional for this period,   because we don't usually find that same richness, \n",
            "the use of all these precious stones in a single   monument. The inlay of the Taj is exquisite \n",
            "because while it is something that has to be   done precisely on a small scale, it covers \n",
            "entire surfaces. And just sourcing these   stones of different colors from various places in \n",
            "the empire and indeed across the world itself was   an extraordinary feat. The quality of stonework \n",
            "required exceptional craftsmanship and skill,   another sign that this monumental mausoleum \n",
            "was as much a show of power for the emperor   Shah Jahan as the creation of a \n",
            "masterpiece close to perfection.   The emperor and his architects had created one of \n",
            "the most beautiful monuments in the Mughal Empire,   but their project was even more ambitious. The \n",
            "designers of the Taj Mahal wanted to reproduce   paradise on Earth. The layout of various \n",
            "courtyards that led to the mausoleum itself   played a role. The successive spaces, from the \n",
            "caravanserai to the mausoleum, corresponded to   a spiritual path. This is the courtyard just in \n",
            "front of the actual innermost enclosure garden of   the Taj Mahal. And so one has to think of the Taj \n",
            "Mahal as a series of movements. Just like you have   in a musical composition where you might build \n",
            "up. You go on till you come to the crescendo. And   this is the last place where the building will be \n",
            "slowly revealed to you. And as you approach this   doorway, you will slowly see parts of it emerge. \n",
            "And so it's like a teaser. And once you get to   that entrance, suddenly it really comes up upon \n",
            "you. A symbolic passage from the terrestrial world   to the celestial. Inside the final enclosure, \n",
            "satellite images upon you. A symbolic passage from   the terrestrial world to the celestial. Inside the \n",
            "final enclosure, satellite images reveal that the   garden is divided by four water channels. The Holy \n",
            "Quran repeatedly promises the faithful gardens   beneath which rivers flow as their final resting \n",
            "space. So paradise is really defined by the four   rivers of paradise, but that is most evident at \n",
            "the Taj Mahal, where the water flowing represents   the four rivers of paradise. The mausoleum itself \n",
            "is an octagon, a significant choice. The Holy   Quran talks about the eight gateways of paradise, \n",
            "and the central tomb chamber at the Taj Mahal is   surrounded by eight chambers, which represent the \n",
            "Hasht Bheesh, or the eight gateways of paradise.   The dome and the minarets represent the ascent of \n",
            "souls to heaven. Even the imperfections found here   demonstrate the desire to represent paradise on \n",
            "earth. They believe that only God can be perfect.   Human beings are not perfect. And very often, \n",
            "they do induce a small element of imperfection to   keep up to that work. The Taj Mahal is an icon of \n",
            "beauty. Its stunning symmetry, exquisite detail,   and gleaming finish make this monument unique. I \n",
            "think the Taj Mahal is an incredible building that   has caught the people's imagination for almost 400 \n",
            "years. New technology has allowed scientists to   carry out a complete reassessment of the Taj Mahal \n",
            "and its grounds. Studying its foundations reveal   that the builders used techniques from civil and \n",
            "military engineering in their quest to make the   building as resistant as possible. The Taj Mahal's \n",
            "location has been re-evaluated using new satellite   images, exposing that the monument was once at the \n",
            "center of a complex much larger than today. that   the monument was once at the center of a complex \n",
            "much larger than today. The search for perfection   has been found in all aspects of construction, \n",
            "from the detail of the floral decoration to   the search for perfect symmetry. Not only is it \n",
            "absolutely grand in scale, but it is also perfect   in symmetry. So the Taj can really be seen from \n",
            "the moon or from two centimeters away, and it's   perfect. The latest revelations reinforce the \n",
            "Taj Mahal's status as a mausoleum with no equal.   Thanks to the latest technology, the Taj Mahal is \n",
            "exposed as much more than a simple mausoleum built   for love. The ambition to reproduce paradise \n",
            "on Earth symbolizes the power of Shah Jahan,   and the skill of its construction ensures \n",
            "the Taj Mahal still shines centuries later.\n"
          ]
        }
      ]
    },
    {
      "cell_type": "code",
      "source": [
        "transcript_list"
      ],
      "metadata": {
        "colab": {
          "base_uri": "https://localhost:8080/"
        },
        "id": "nNY7cMrI-hDl",
        "outputId": "5244cc82-0c72-48a8-b2be-a3af934d97fa"
      },
      "execution_count": 7,
      "outputs": [
        {
          "output_type": "execute_result",
          "data": {
            "text/plain": [
              "FetchedTranscript(snippets=[FetchedTranscriptSnippet(text='Documentary', start=0.0, duration=1.0), FetchedTranscriptSnippet(text='In the north of India, in the city of Agra,\\xa0\\nstands the Taj Mahal, a monumental mausoleum\\xa0\\xa0', start=1.0, duration=7.16), FetchedTranscriptSnippet(text=\"of white marble built almost 400 years ago on the\\xa0\\nbanks of the sacred Yamuna River. I don't think a\\xa0\\xa0\", start=8.16, duration=6.92), FetchedTranscriptSnippet(text='building like this will ever be created again. The\\xa0\\ndome of this mythical building towers 73 meters,\\xa0\\xa0', start=15.08, duration=7.12), FetchedTranscriptSnippet(text=\"marking the heart of a vast architectural complex\\xa0\\nstretching 177,000 square meters. It's absolutely\\xa0\\xa0\", start=22.2, duration=8.0), FetchedTranscriptSnippet(text='grand in scale. So the Taj can really be seen\\xa0\\nfrom the moon or from two centimeters away,\\xa0\\xa0', start=30.2, duration=5.04), FetchedTranscriptSnippet(text=\"and it's perfect. The Taj Mahal is a symbol\\xa0\\nof perfection. The Mughal emperor Shah Jahan\\xa0\\xa0\", start=35.24, duration=7.52), FetchedTranscriptSnippet(text='ordered it built in the 17th century as a monument\\xa0\\nof love, in memory of his wife Mumtaz Mahal. Today\\xa0\\xa0', start=42.76, duration=7.92), FetchedTranscriptSnippet(text='it is one of the ten most visited monuments in\\xa0\\nthe world with nearly 7 million visitors each\\xa0\\xa0', start=50.68, duration=5.04), FetchedTranscriptSnippet(text='year. The extraordinary mausoleum took builders\\xa0\\njust 18 years to complete and is considered one\\xa0\\xa0', start=55.72, duration=6.28), FetchedTranscriptSnippet(text='of the seven wonders of the modern world. It\\xa0\\nis a masterpiece of architecture and I think\\xa0\\xa0', start=62.0, duration=6.16), FetchedTranscriptSnippet(text=\"it was built as a masterpiece. But it's also\\xa0\\none of the most mysterious with many secrets\\xa0\\xa0\", start=68.16, duration=5.24), FetchedTranscriptSnippet(text=\"still to be revealed. What most people don't\\xa0\\nrealize is that it is not a building built\\xa0\\xa0\", start=73.4, duration=5.32), FetchedTranscriptSnippet(text='in marble. By scanning the mausoleum from\\xa0\\nthe satellite scale to the molecular scale,\\xa0\\xa0', start=78.72, duration=6.6), FetchedTranscriptSnippet(text='engineers can explore this monumental structure as\\xa0\\nnever before. We can reach magnification levels of\\xa0\\xa0', start=85.32, duration=6.68), FetchedTranscriptSnippet(text='15,000 to 50,000. The enormity of scale from\\xa0\\nthe micro to the macro, from the minuscule to\\xa0\\xa0', start=92.0, duration=7.32), FetchedTranscriptSnippet(text='the urban, is really something that makes the Taj\\xa0\\nabsolutely unique. New aerial imagery exposes the\\xa0\\xa0', start=99.32, duration=7.4), FetchedTranscriptSnippet(text='genius of the architects and the secrets of its\\xa0\\nincredible layout. The Taj Mahal looks perfect,\\xa0\\xa0', start=106.72, duration=8.08), FetchedTranscriptSnippet(text=\"but in fact it's imperfect, a little bit like\\xa0\\nthe Parthenon in Athens. It gives visitors\\xa0\\xa0\", start=114.8, duration=5.2), FetchedTranscriptSnippet(text=\"the impression of perfection when it's not. How\\xa0\\ndid builders complete this colossal construction\\xa0\\xa0\", start=120.0, duration=6.48), FetchedTranscriptSnippet(text='in under 20 years, when it took creators of\\xa0\\nthe Notre Dame Cathedral more than a century?\\xa0\\xa0', start=126.48, duration=6.52), FetchedTranscriptSnippet(text='People do not realize that such a complex piece\\xa0\\nof construction can be executed in a short time.\\xa0\\xa0', start=133.0, duration=6.04), FetchedTranscriptSnippet(text='What construction techniques, invisible to the\\xa0\\nnaked eye, are hidden deep within the structure?\\xa0\\xa0', start=139.04, duration=6.2), FetchedTranscriptSnippet(text=\"I have the mortar sample that I'll insert into the\\xa0\\nscanning electron microscope in order to identify\\xa0\\xa0\", start=145.24, duration=5.0), FetchedTranscriptSnippet(text='the minerals that are present in the mortar. How\\xa0\\ndid builders manage to construct a monument of\\xa0\\xa0', start=150.24, duration=5.72), FetchedTranscriptSnippet(text='this magnitude on the unstable banks of a river,\\xa0\\neven though the mausoleum alone weighs 25,000\\xa0\\xa0', start=155.96, duration=7.2), FetchedTranscriptSnippet(text='tons. The building managed to survive all kinds\\xa0\\nof floods, earthquakes, and heavy rains. History,\\xa0\\xa0', start=163.16, duration=10.72), FetchedTranscriptSnippet(text='science, engineering, exposed as never before,\\xa0\\nthe Taj Mahal finally reveals reveals itself\\xa0\\xa0', start=173.88, duration=7.44), FetchedTranscriptSnippet(text='on every scale. The Taj Mahal was built nearly\\xa0\\n400 years ago at the heart of the city of Agra,\\xa0\\xa0', start=181.32, duration=20.12), FetchedTranscriptSnippet(text='the former capital of the Mughal Empire.\\xa0\\nThe marble mausoleum is octagonal in shape,\\xa0\\xa0', start=201.44, duration=6.4), FetchedTranscriptSnippet(text='stretching 58 meters on each side and soaring\\xa0\\n73 meters tall, sitting on a base almost 100\\xa0\\xa0', start=207.84, duration=8.04), FetchedTranscriptSnippet(text='meters long. Taj Mahal, in many ways, is\\xa0\\nhyperreal. While we are in this reality,\\xa0\\xa0', start=215.88, duration=7.0), FetchedTranscriptSnippet(text=\"we are experiencing something that is completely\\xa0\\nout of this world. I don't think a building like\\xa0\\xa0\", start=222.88, duration=5.52), FetchedTranscriptSnippet(text='this will ever be created again. Today, the\\xa0\\nTaj Mahal is listed as a World Heritage Site.\\xa0\\xa0', start=228.4, duration=11.32), FetchedTranscriptSnippet(text='It is a masterpiece of architecture, and I\\xa0\\nthink it was built as a masterpiece. I love this\\xa0\\xa0', start=243.44, duration=6.92), FetchedTranscriptSnippet(text='building because it transports me into a different\\xa0\\nrealm and again to realize that such a complex\\xa0\\xa0', start=250.36, duration=8.56), FetchedTranscriptSnippet(text='piece of construction can be executed in a short\\xa0\\ntime. How did builders complete the construction\\xa0\\xa0', start=258.92, duration=7.4), FetchedTranscriptSnippet(text='of one of the greatest architectural complexes in\\xa0\\nthe Indian world in just 18 years? When visitors\\xa0\\xa0', start=266.32, duration=8.0), FetchedTranscriptSnippet(text=\"discover the Taj Mahal, they're impressed by\\xa0\\nthe grandeur of the monument and its richness,\\xa0\\xa0\", start=274.32, duration=5.24), FetchedTranscriptSnippet(text='with all the materials that are used in its\\xa0\\nconstruction, the marble in particular. But\\xa0\\xa0', start=279.56, duration=6.0), FetchedTranscriptSnippet(text=\"that's actually just a shell, an envelope. What\\xa0\\nmost people don't realize about the Taj Mahal is\\xa0\\xa0\", start=285.56, duration=6.8), FetchedTranscriptSnippet(text='that it is not a building built in marble. Clues\\xa0\\nto expose the secrets of its rapid construction\\xa0\\xa0', start=292.36, duration=7.52), FetchedTranscriptSnippet(text='can be found in New Delhi, 200 kilometers\\xa0\\nnorth of Agra, at another mausoleum,\\xa0\\xa0', start=299.88, duration=6.52), FetchedTranscriptSnippet(text='the Tomb of Rahim. Many archaeologists consider\\xa0\\nthis monument to be the little brother of the\\xa0\\xa0', start=306.4, duration=6.48), FetchedTranscriptSnippet(text='Taj Mahal. It was built 50 years earlier.\\xa0\\nOver time, the monument has been plundered,\\xa0\\xa0', start=312.88, duration=6.64), FetchedTranscriptSnippet(text='stripped of its most precious materials. It\\xa0\\noffers scientists a unique opportunity to\\xa0\\xa0', start=319.52, duration=5.88), FetchedTranscriptSnippet(text='explore construction techniques that builders of\\xa0\\nthe Taj Mahal also used. Examining the structure\\xa0\\xa0', start=325.4, duration=6.44), FetchedTranscriptSnippet(text='at a macroscopic scale shows the original\\xa0\\nmarble casing conceals other materials. It\\xa0\\xa0', start=331.84, duration=6.36), FetchedTranscriptSnippet(text='does help understanding how the Taj Mahal is\\xa0\\nbuilt because the white marble blocks, huge\\xa0\\xa0', start=338.2, duration=6.8), FetchedTranscriptSnippet(text='blocks of white marble that make the dome of Taj\\xa0\\nMahal is built, because the white marble blocks,\\xa0\\xa0', start=345.0, duration=2.487), FetchedTranscriptSnippet(text='huge blocks of white marble that make the dome\\xa0\\nof Taj Mahal are really resting on brick masonry\\xa0\\xa0', start=347.487, duration=3.393), FetchedTranscriptSnippet(text='and stone masonry below. A 3D reconstruction\\xa0\\nreveals how the dome of the Taj Mahal was built.\\xa0\\xa0', start=350.88, duration=8.76), FetchedTranscriptSnippet(text='Historically, this is how the Taj Mahal\\xa0\\nand all of these monuments were built,\\xa0\\xa0', start=360.68, duration=4.84), FetchedTranscriptSnippet(text='where imported expensive stone such as marble\\xa0\\nand red sandstone was only the top 8 to 10\\xa0\\xa0', start=365.52, duration=6.36), FetchedTranscriptSnippet(text='inches. And the interior was built of local stone,\\xa0\\nrandom rubble masonry. So how did this building\\xa0\\xa0', start=371.88, duration=8.84), FetchedTranscriptSnippet(text='technique speed up construction? The speed of the\\xa0\\nconstruction of the Taj Mahal can be explained\\xa0\\xa0', start=380.72, duration=6.56), FetchedTranscriptSnippet(text='by the materials utilized by the many builders\\xa0\\nwho worked on this site. About 20,000 workers,\\xa0\\xa0', start=387.28, duration=5.88), FetchedTranscriptSnippet(text='according to the chronicles of the time.\\xa0\\nScientists think that the use of brick as\\xa0\\xa0', start=393.16, duration=5.28), FetchedTranscriptSnippet(text=\"a framework offered builders a major advantage.\\xa0\\nBrick is also a material that's made locally,\\xa0\\xa0\", start=398.44, duration=6.68), FetchedTranscriptSnippet(text='so you have complete control over it right\\xa0\\nfrom its conception, as opposed to sandstone,\\xa0\\xa0', start=405.12, duration=6.08), FetchedTranscriptSnippet(text='where you might have to quarry a lot before\\xa0\\nyou get the perfect bits. And most importantly,\\xa0\\xa0', start=411.2, duration=5.28), FetchedTranscriptSnippet(text='brick can be manufactured a lot more locally than\\xa0\\nsandstone or marble, which has to be brought in\\xa0\\xa0', start=416.48, duration=5.76), FetchedTranscriptSnippet(text='from a large distance away. or marble, which has\\xa0\\nto be brought in from a large distance away. Brick\\xa0\\xa0', start=422.24, duration=4.52), FetchedTranscriptSnippet(text=\"manufacture doesn't require complex logistics.\\xa0\\nToday, very close to the Taj Mahal, the principles\\xa0\\xa0\", start=426.76, duration=6.76), FetchedTranscriptSnippet(text='of production are almost identical. The clay,\\xa0\\ndesign techniques, and firing are all similar\\xa0\\xa0', start=433.52, duration=6.72), FetchedTranscriptSnippet(text='to those used by 17th century builders. First,\\xa0\\nwe dig the earth. then we add salt and water.\\xa0\\xa0', start=440.24, duration=9.28), FetchedTranscriptSnippet(text='To make the bricks we put sand in the\\xa0\\nmold, then we put clay in the mold,\\xa0\\xa0', start=450.88, duration=4.44), FetchedTranscriptSnippet(text='and then the brick starts to come out. The bricks\\xa0\\nare dried in the sun, before being stacked in a\\xa0\\xa0', start=455.32, duration=8.64), FetchedTranscriptSnippet(text=\"circular kiln dug into the ground, an oven that\\xa0\\nruns nonstop. It's filled up in sequence. Every\\xa0\\xa0\", start=463.96, duration=8.24), FetchedTranscriptSnippet(text='day, 40,000 bricks are put into the kiln. 40,000\\xa0\\nbricks are fired, and 40,000 bricks are taken out.\\xa0\\xa0', start=472.2, duration=7.24), FetchedTranscriptSnippet(text='While workers stack new bricks, others remove the\\xa0\\nfired bricks so that production never stops. Look\\xa0\\xa0', start=480.12, duration=9.16), FetchedTranscriptSnippet(text='at the technique. The spacing is made so that\\xa0\\nwhen the coal is put in, it reaches directly\\xa0\\xa0', start=489.28, duration=6.2), FetchedTranscriptSnippet(text='to the ground below. The heat rises and bakes\\xa0\\nall the bricks. A 3D reconstruction exposes how\\xa0\\xa0', start=495.48, duration=7.84), FetchedTranscriptSnippet(text=\"the brick factory functions. It's a perpetual\\xa0\\ncircle, which allows workers to fire thousands\\xa0\\xa0\", start=503.32, duration=6.32), FetchedTranscriptSnippet(text='of bricks continuously. The central chimney\\xa0\\nevacuates fumes from the base, accelerating and\\xa0\\xa0', start=509.64, duration=6.28), FetchedTranscriptSnippet(text=\"regulating the process of cooking. This is a vent\\xa0\\nfor the chimney. It's closed now. It's a tunnel to\\xa0\\xa0\", start=515.92, duration=7.88), FetchedTranscriptSnippet(text='the chimney. There are a total of 20 tunnels in\\xa0\\na circle here. All of them lead to the chimney.\\xa0\\xa0', start=523.8, duration=7.08), FetchedTranscriptSnippet(text='The bricks will be fired for almost a week, with a\\xa0\\npeak temperature reaching almost 1,000 degrees. A\\xa0\\xa0', start=530.88, duration=6.2), FetchedTranscriptSnippet(text='factory of this size produces 1.2 million bricks\\xa0\\nper month. Bricks were thinner at the time of\\xa0\\xa0', start=537.08, duration=6.88), FetchedTranscriptSnippet(text='the emperor Shah Jahan. Factories were created\\xa0\\non site according to need. Using clay from the\\xa0\\xa0', start=543.96, duration=7.52), FetchedTranscriptSnippet(text='banks of the Yamuna River, the proximity and ease\\xa0\\nof production helps explain the speed of building\\xa0\\xa0', start=551.48, duration=6.36), FetchedTranscriptSnippet(text='at the Taj Mahal. Constructing in brick allows\\xa0\\nyou to build much bigger buildings than if you\\xa0\\xa0', start=557.84, duration=7.84), FetchedTranscriptSnippet(text='did just with stone. It allows you greater control\\xa0\\nover the shape of the building. By using bricks,\\xa0\\xa0', start=565.68, duration=7.32), FetchedTranscriptSnippet(text='builders could create taller structures\\xa0\\nrapidly. Thanks to the latest technology,\\xa0\\xa0', start=573.0, duration=6.0), FetchedTranscriptSnippet(text='scientists can strip the Taj Mahal of\\xa0\\nits cladding and expose its true form,\\xa0\\xa0', start=579.0, duration=5.44), FetchedTranscriptSnippet(text=\"a skeleton made of brick. The Taj Mahal's\\xa0\\ndome hides a secret, too. From the outside,\\xa0\\xa0\", start=584.44, duration=8.0), FetchedTranscriptSnippet(text='it appears to be a single dome measuring 18\\xa0\\nmeters in diameter and 73 meters tall. Looking at\\xa0\\xa0', start=592.44, duration=7.48), FetchedTranscriptSnippet(text='the Taj, most people do not realize that the big\\xa0\\ncentral dome is actually a double dome. Building\\xa0\\xa0', start=599.92, duration=8.16), FetchedTranscriptSnippet(text='two domes on top of each other allowed architects\\xa0\\nto build faster and more efficiently. The marble\\xa0\\xa0', start=608.08, duration=7.68), FetchedTranscriptSnippet(text='cladding on the outside obscures the true double\\xa0\\nstructure hidden inside. For the Taj Mahal,\\xa0\\xa0', start=615.76, duration=8.4), FetchedTranscriptSnippet(text=\"we have two domes that were built. It's an effect\\xa0\\nwhich the architect wanted. So it gives this\\xa0\\xa0\", start=624.16, duration=6.36), FetchedTranscriptSnippet(text='impression to the visitor when they enter the Taj\\xa0\\nMahal. An impression of grandeur with the first\\xa0\\xa0', start=630.52, duration=5.4), FetchedTranscriptSnippet(text='big dome and inside, a smaller one. The ceiling\\xa0\\nof the interior dome is just 35 meters high,\\xa0\\xa0', start=635.92, duration=9.76), FetchedTranscriptSnippet(text='while the exterior dome towers 38 meters above.\\xa0\\nThe genius of the architects was to engineer\\xa0\\xa0', start=645.68, duration=7.36), FetchedTranscriptSnippet(text='a light structure made with brick that could be\\xa0\\nbuilt quickly, a giant framework hidden by white\\xa0\\xa0', start=653.04, duration=6.84), FetchedTranscriptSnippet(text=\"marble cladding. To manage all these works is\\xa0\\nsomething phenomenal. It's really an industrial\\xa0\\xa0\", start=659.88, duration=7.2), FetchedTranscriptSnippet(text='project in a pre-industrial age. The craftsmanship\\xa0\\nis of the highest order. This indeed is a royal\\xa0\\xa0', start=667.08, duration=6.8), FetchedTranscriptSnippet(text='commission and of the richest empire in the world\\xa0\\nat that time. The use of bricks for the Taj Mahal\\xa0\\xa0', start=673.88, duration=7.64), FetchedTranscriptSnippet(text='explains the speed of construction. The internal\\xa0\\nskeleton can be exposed with the latest technology\\xa0\\xa0', start=681.52, duration=7.8), FetchedTranscriptSnippet(text='by stripping lining to show how far ahead of their\\xa0\\ntime engineers were and how they made the building\\xa0\\xa0', start=689.32, duration=6.88), FetchedTranscriptSnippet(text='of this monumental structure so efficient.\\xa0\\nThe Taj Mahal is an architectural masterpiece,\\xa0\\xa0', start=696.2, duration=18.2), FetchedTranscriptSnippet(text='built 400 years ago on the outskirts of the former\\xa0\\ncapital of the Mughal Empire, Agra, on the banks\\xa0\\xa0', start=714.4, duration=7.92), FetchedTranscriptSnippet(text='of the sacred Yamuna River, a funerary mausoleum\\xa0\\nbuilt by the emperor Shah Jahan in memory of his\\xa0\\xa0', start=722.32, duration=7.92), FetchedTranscriptSnippet(text='late wife, Mumtaz Mahal. But why did the emperor\\xa0\\nchoose to build the mausoleum on this site, on\\xa0\\xa0', start=730.24, duration=7.88), FetchedTranscriptSnippet(text='soft ground that would make the construction more\\xa0\\nchallenging? Examining the site on the satellite\\xa0\\xa0', start=738.12, duration=6.96), FetchedTranscriptSnippet(text='scale reveals the secret of its location.\\xa0\\nMB Rajani is an archaeologist who analyzes\\xa0\\xa0', start=745.08, duration=6.4), FetchedTranscriptSnippet(text='geospatial data. MIMI RAJANI, Geospatial data is\\xa0\\na large umbrella under which satellite imagery,\\xa0\\xa0', start=751.48, duration=7.72), FetchedTranscriptSnippet(text='GIS tools and techniques, GPS. I use satellite\\xa0\\nimagery and the associated technologies to study\\xa0\\xa0', start=759.2, duration=7.56), FetchedTranscriptSnippet(text='archaeological landscape. The study of satellite\\xa0\\ndata alongside field observations reveals that\\xa0\\xa0', start=766.76, duration=8.64), FetchedTranscriptSnippet(text='the Taj Mahal is surrounded by several dozen\\xa0\\nstructures spread along the Yamuna River. We\\xa0\\xa0', start=775.4, duration=6.12), FetchedTranscriptSnippet(text='use satellite imagery to understand what the\\xa0\\nlayout is like. And sometimes these layouts\\xa0\\xa0', start=781.52, duration=7.36), FetchedTranscriptSnippet(text='remain as what we call crop mark, which means\\xa0\\nin the vegetation patterns. Or sometimes in road\\xa0\\xa0', start=788.88, duration=7.16), FetchedTranscriptSnippet(text='patterns, we see these patterns. So using these,\\xa0\\nwe could identify all these 50 riverfront gardens,\\xa0\\xa0', start=796.04, duration=6.68), FetchedTranscriptSnippet(text='which form the center of the Shahjani Agra.\\xa0\\nThese structures are the remains of ancient\\xa0\\xa0', start=802.72, duration=8.92), FetchedTranscriptSnippet(text='pleasure gardens. In the 17th century, the city\\xa0\\nof Agra was the capital of the Mughal Empire,\\xa0\\xa0', start=811.64, duration=7.4), FetchedTranscriptSnippet(text='which dominated India. The elites of the empire\\xa0\\nbuilt huge gardens along this river. 3D imagery\\xa0\\xa0', start=819.04, duration=8.56), FetchedTranscriptSnippet(text='exposes the extent of these structures at the\\xa0\\ntime. These riverfront gardens, that was the core\\xa0\\xa0', start=827.6, duration=6.92), FetchedTranscriptSnippet(text=\"of the Shahjahan's layout of Agra. So all these\\xa0\\nwere square or rectangular patches of land. It\\xa0\\xa0\", start=834.52, duration=7.32), FetchedTranscriptSnippet(text='was for either the royal family or the nobility.\\xa0\\nPleasure gardens in these prime locations were\\xa0\\xa0', start=841.84, duration=8.16), FetchedTranscriptSnippet(text='a mark of power that only the most influential\\xa0\\nfamilies could afford. And the gardens of the Taj\\xa0\\xa0', start=850.0, duration=5.72), FetchedTranscriptSnippet(text='Mahal were amongst the most beautiful. Examining\\xa0\\nthe Taj Mahal and its gardens by satellite reveals\\xa0\\xa0', start=855.72, duration=7.6), FetchedTranscriptSnippet(text=\"the incredible precision of their positioning.\\xa0\\nSo Taj Mahal's location was very important\\xa0\\xa0\", start=863.32, duration=8.32), FetchedTranscriptSnippet(text='because he laid it out very interestingly.\\xa0\\nIf you look at the layout of Taj Mahal,\\xa0\\xa0', start=871.64, duration=5.24), FetchedTranscriptSnippet(text='you draw an axis. It goes straight north-south.\\xa0\\nNone of the other gardens are aligned that way. So\\xa0\\xa0', start=876.88, duration=8.2), FetchedTranscriptSnippet(text='I think that location was very carefully chosen by\\xa0\\nShahjahan. Aligning the monument and its gardens,\\xa0\\xa0', start=885.08, duration=8.44), FetchedTranscriptSnippet(text='according to the cardinal points, ensure the\\xa0\\nprominence of the Taj Mahal alongside other\\xa0\\xa0', start=893.52, duration=5.72), FetchedTranscriptSnippet(text='gardens. But why did the architects choose to\\xa0\\nbuild alongside a meandering river, limiting the\\xa0\\xa0', start=899.24, duration=7.12), FetchedTranscriptSnippet(text='view of the mausoleum? To solve this mystery, we\\xa0\\nmust examine the monument from the river. We are\\xa0\\xa0', start=906.36, duration=9.96), FetchedTranscriptSnippet(text='fairly sure that the Taj would have been enjoyed\\xa0\\nfrom the riverside and also from within the river,\\xa0\\xa0', start=916.32, duration=5.92), FetchedTranscriptSnippet(text=\"from boats. So if you're coming from north and\\xa0\\nyou're coming down this very interesting loop, Taj\\xa0\\xa0\", start=922.24, duration=6.92), FetchedTranscriptSnippet(text=\"Mahal reveals itself. You know, it's almost like\\xa0\\na secret coming. So I think that was also a very\\xa0\\xa0\", start=929.16, duration=7.2), FetchedTranscriptSnippet(text='well-planned location to show the magnificence,\\xa0\\neven if you are approaching by boat. The Taj Mahal\\xa0\\xa0', start=936.36, duration=19.24), FetchedTranscriptSnippet(text='is part of a series of gardens reserved for the\\xa0\\nelite of the country at the time of Shah Jahan.\\xa0\\xa0', start=955.6, duration=7.24), FetchedTranscriptSnippet(text='One of them in particular intrigues researchers\\xa0\\nand is the subject of legend. Analyzing satellite\\xa0\\xa0', start=962.84, duration=7.96), FetchedTranscriptSnippet(text='images exposes an enclosure of the same size\\xa0\\nas the Taj Mahal, located directly opposite\\xa0\\xa0', start=970.8, duration=7.2), FetchedTranscriptSnippet(text='on the other side of the river. What intrigues\\xa0\\nresearchers is that this structure has exactly\\xa0\\xa0', start=978.0, duration=6.88), FetchedTranscriptSnippet(text='the same proportions as the enclosure of the Taj\\xa0\\nMahal. There is a myth that a similar building\\xa0\\xa0', start=984.88, duration=7.84), FetchedTranscriptSnippet(text='was meant to be constructed on the other bank of\\xa0\\nthe river in black marble. Legend has it that the\\xa0\\xa0', start=992.72, duration=8.68), FetchedTranscriptSnippet(text='emperor planned to build his own mausoleum\\xa0\\nin front of the Taj Mahal. But researchers\\xa0\\xa0', start=1001.4, duration=5.88), FetchedTranscriptSnippet(text='refute this idea. There is no evidence of this\\xa0\\nblack Taj. And also there is not much evidence,\\xa0\\xa0', start=1007.28, duration=7.88), FetchedTranscriptSnippet(text='I think, in the remains over there that it was\\xa0\\nany time planned. With no scientific evidence to\\xa0\\xa0', start=1015.16, duration=6.24), FetchedTranscriptSnippet(text='support the existence of a black Taj Mahal,\\xa0\\nwhat is the function of the enclosure? Now,\\xa0\\xa0', start=1021.4, duration=6.32), FetchedTranscriptSnippet(text='thanks to geospatial data, archaeologists have\\xa0\\na new interpretation. We know that there is a\\xa0\\xa0', start=1027.72, duration=5.84), FetchedTranscriptSnippet(text='garden bang opposite the Taj Mahal. And the Taj\\xa0\\ncertainly was meant to be enjoyed from across the\\xa0\\xa0', start=1033.56, duration=6.88), FetchedTranscriptSnippet(text='river visually. across the river visually. This\\xa0\\nis Mehtaab Bagh, which is right on the north side\\xa0\\xa0', start=1040.44, duration=10.8), FetchedTranscriptSnippet(text='of Taj. As you can see, Taj is there, and we are\\xa0\\non this side, and we have the river in between.\\xa0\\xa0', start=1051.24, duration=8.64), FetchedTranscriptSnippet(text=\"So it's right on the opposite of Taj. And the\\xa0\\nlayout of Mehtaab Bagh is a mirror image of\\xa0\\xa0\", start=1059.88, duration=8.68), FetchedTranscriptSnippet(text=\"Taj's layout. Archaeologists have found traces\\xa0\\nof a platform that might have formed the base\\xa0\\xa0\", start=1068.56, duration=9.8), FetchedTranscriptSnippet(text=\"of a pleasure pavilion. So I think it's one of\\xa0\\nthe best views from here of the Taj Mahal. And\\xa0\\xa0\", start=1078.36, duration=11.48), FetchedTranscriptSnippet(text='no wonder Shahjahan wanted to experience it for\\xa0\\nhimself, and he had this Mehtaap Bagh made as a\\xa0\\xa0', start=1089.84, duration=6.84), FetchedTranscriptSnippet(text='pavilion to view this beautiful monument from.\\xa0\\nArchaeologists think the enclosure opposite the\\xa0\\xa0', start=1096.68, duration=14.76), FetchedTranscriptSnippet(text=\"Taj Mahal was an integral part of the monument's\\xa0\\nlayout, exposing the vision of the architects.\\xa0\\xa0\", start=1111.44, duration=7.12), FetchedTranscriptSnippet(text='The recent revelations have allowed a complete\\xa0\\nreassessment of the site. But how exactly did\\xa0\\xa0', start=1118.56, duration=5.96), FetchedTranscriptSnippet(text='this architectural ensemble appear at the time?\\xa0\\nTo answer this question, experts study the most\\xa0\\xa0', start=1124.52, duration=6.16), FetchedTranscriptSnippet(text='recent aerial images and build their ideas on a\\xa0\\nparticular theory. At the time of the emperor,\\xa0\\xa0', start=1130.68, duration=6.96), FetchedTranscriptSnippet(text='monuments and constructions were based on\\xa0\\nsymmetry. Even ancillary buildings that you see in\\xa0\\xa0', start=1137.64, duration=6.68), FetchedTranscriptSnippet(text='the taj complex are built absolutely symmetrically\\xa0\\nthe gardens are laid out in symmetrical ways and a\\xa0\\xa0', start=1144.32, duration=8.28), FetchedTranscriptSnippet(text='central flowing stream of water becomes the axis\\xa0\\nalong which this symmetry is divided symmetry is\\xa0\\xa0', start=1152.6, duration=8.2), FetchedTranscriptSnippet(text='a very known idea and very prominent in islamic\\xa0\\narchitecture in general and of course in Mughal\\xa0\\xa0', start=1160.8, duration=5.68), FetchedTranscriptSnippet(text='architecture. So you will see most of Taj Mahal\\xa0\\nhas symmetry everywhere. Examining the Taj Mahal\\xa0\\xa0', start=1166.48, duration=9.36), FetchedTranscriptSnippet(text='today exposes an obvious symmetry when seen\\xa0\\nfrom the front. It is placed centrally between\\xa0\\xa0', start=1175.84, duration=6.12), FetchedTranscriptSnippet(text='two monuments, a mosque and a pavilion for\\xa0\\nguests, identical constructions. But examining\\xa0\\xa0', start=1181.96, duration=5.76), FetchedTranscriptSnippet(text='the site on a satellite scale reveals that the\\xa0\\nmausoleum itself is placed on one end rather\\xa0\\xa0', start=1187.72, duration=6.08), FetchedTranscriptSnippet(text='than centrally. Taj Mahal layout itself is laid\\xa0\\nout in a rectangle. And if you draw an axis line,\\xa0\\xa0', start=1193.8, duration=6.64), FetchedTranscriptSnippet(text='it is mirror imaging on either side. But what\\xa0\\nis important is the central line is north-south,\\xa0\\xa0', start=1200.44, duration=6.36), FetchedTranscriptSnippet(text='true north to true south aligned. And\\xa0\\nalso Taj Mahal is placed at the top end,\\xa0\\xa0', start=1206.8, duration=6.0), FetchedTranscriptSnippet(text='north end of the layout. Why is the Taj Mahal not\\xa0\\nin the center of this complex when the architects\\xa0\\xa0', start=1212.8, duration=7.8), FetchedTranscriptSnippet(text='of the time based everything on balance? Is this\\xa0\\na mistake or an aesthetic choice? New technology,\\xa0\\xa0', start=1220.6, duration=9.08), FetchedTranscriptSnippet(text='such as the analysis of satellite images, makes it\\xa0\\npossible to reinterpret the layout of the monument\\xa0\\xa0', start=1229.68, duration=6.08), FetchedTranscriptSnippet(text='and reveal clues about what the site, obscuring\\xa0\\nany remnants of the past. A location where people\\xa0\\xa0', start=1235.76, duration=16.12), FetchedTranscriptSnippet(text='continue to live gets built over, gets reused and\\xa0\\nredone. But seeing a satellite image, we are able\\xa0\\xa0', start=1251.88, duration=9.32), FetchedTranscriptSnippet(text='to see the larger layout. So my work can show what\\xa0\\nhas been the evolution of how the landscape has\\xa0\\xa0', start=1261.2, duration=7.88), FetchedTranscriptSnippet(text='been used from the time it was initially built\\xa0\\ntill now. So if you look at a satellite image,\\xa0\\xa0', start=1269.08, duration=8.4), FetchedTranscriptSnippet(text='the area south of the main entrance of Taj\\xa0\\nMahal also has a pattern, a square pattern,\\xa0\\xa0', start=1277.48, duration=6.68), FetchedTranscriptSnippet(text='which is of the same measurement as one of\\xa0\\nthe sections of Taj Mahal also has a pattern,\\xa0\\xa0', start=1284.16, duration=4.382), FetchedTranscriptSnippet(text='a square pattern, which is of the same measurement\\xa0\\nas one of the sections of Taj Mahal garden. You\\xa0\\xa0', start=1288.542, duration=1.698), FetchedTranscriptSnippet(text=\"see that wall? I think that's part of the old wall\\xa0\\nof the Sarai. This monumental structure, identical\\xa0\\xa0\", start=1290.24, duration=8.72), FetchedTranscriptSnippet(text='in size to the other enclosures surrounding\\xa0\\nthe Taj Mahal, could be a caravan Sarai,\\xa0\\xa0', start=1298.96, duration=5.84), FetchedTranscriptSnippet(text='a place of welcome for travelers, in the form\\xa0\\nof a large courtyard that could house merchants,\\xa0\\xa0', start=1304.8, duration=5.88), FetchedTranscriptSnippet(text='pilgrims, and their animals. These buildings,\\xa0\\nwhich can be reconstructed in 3-D, were therefore\\xa0\\xa0', start=1310.68, duration=5.8), FetchedTranscriptSnippet(text='an integral part of the Taj Mahal complex\\xa0\\nat the time of its construction. Over time,\\xa0\\xa0', start=1316.48, duration=6.0), FetchedTranscriptSnippet(text='because this has been lived in, and people have\\xa0\\nbuilt over it, sort of, the old structures must\\xa0\\xa0', start=1322.48, duration=5.96), FetchedTranscriptSnippet(text='have deteriorated and built over it. The analysis\\xa0\\nof the satellite images is corroborated by\\xa0\\xa0', start=1328.44, duration=6.72), FetchedTranscriptSnippet(text='observations on the ground, like this gateway in\\xa0\\nthe heart of the old city of Agra. This gateway\\xa0\\xa0', start=1335.16, duration=6.52), FetchedTranscriptSnippet(text='is very typical of Mughal gateways, and what you\\xa0\\nhave is a height that can allow an elephant with a\\xa0\\xa0', start=1341.68, duration=6.84), FetchedTranscriptSnippet(text=\"rider to pass through. There's a terrace up there.\\xa0\\nCan we take a look? OK. This gateway in the heart\\xa0\\xa0\", start=1349.24, duration=11.76), FetchedTranscriptSnippet(text='of the old city could be directly linked to the\\xa0\\nTaj Mahal. This is the Dakhani Darwaza. The name\\xa0\\xa0', start=1361.0, duration=7.76), FetchedTranscriptSnippet(text=\"comes from the direction word for south, and\\xa0\\nthe Dakhani Darwaza faces south. And it's right\\xa0\\xa0\", start=1368.76, duration=6.64), FetchedTranscriptSnippet(text=\"on axis with the Taj Mahal. And so it's very\\xa0\\nclear that this would be the first gate that\\xa0\\xa0\", start=1375.4, duration=7.04), FetchedTranscriptSnippet(text='you would pass through in procession to get to\\xa0\\nthe Taj Mahal. And this is the first of the many\\xa0\\xa0', start=1382.44, duration=6.44), FetchedTranscriptSnippet(text='spaces you encounter as you come to the actual\\xa0\\nmarble monument itself. The architectural complex\\xa0\\xa0', start=1388.88, duration=7.12), FetchedTranscriptSnippet(text='that surrounds the mausoleum was much larger than\\xa0\\ntoday. New technology has allowed investigators to\\xa0\\xa0', start=1396.0, duration=5.96), FetchedTranscriptSnippet(text='re-evaluate the positioning of the Taj Mahal.\\xa0\\nhas allowed investigators to reevaluate the\\xa0\\xa0', start=1401.96, duration=0.92), FetchedTranscriptSnippet(text='positioning of the Taj Mahal. If the complex is\\xa0\\nenlarged by an enclosure to the south, it makes\\xa0\\xa0', start=1402.88, duration=5.76), FetchedTranscriptSnippet(text='experts reconsider what lies to the north, the\\xa0\\ngardens known as the mettebag and the sacred\\xa0\\xa0', start=1408.64, duration=6.8), FetchedTranscriptSnippet(text='Yamuna River itself. So when we see satellite\\xa0\\nimage of this area, we can clearly see the\\xa0\\xa0', start=1415.44, duration=7.0), FetchedTranscriptSnippet(text='Taj complex itself, where the monument is in the\\xa0\\ncenter and the mosque and the Mahmoud Khan on the\\xa0\\xa0', start=1422.44, duration=5.16), FetchedTranscriptSnippet(text='other side, the garden laid out in the square with\\xa0\\nits axial paths, and on the south of it is the\\xa0\\xa0', start=1427.6, duration=7.56), FetchedTranscriptSnippet(text='layout of the entrance complex. By using satellite\\xa0\\nimagery, we see that the symmetry is there in\\xa0\\xa0', start=1435.16, duration=8.4), FetchedTranscriptSnippet(text='larger scale and larger layout as well. This\\xa0\\nre-evaluation of the site gives the sacred Yamuna\\xa0\\xa0', start=1443.56, duration=7.84), FetchedTranscriptSnippet(text='River a major role as a natural feature in which\\xa0\\nthe mausoleum is reflected, a stroke of genius\\xa0\\xa0', start=1451.4, duration=7.16), FetchedTranscriptSnippet(text='from the architects of the Taj Mahal. And so one\\xa0\\nmust not limit the Taj Mahal to being a site that\\xa0\\xa0', start=1458.56, duration=7.52), FetchedTranscriptSnippet(text='is only on this bank of the river. But think of it\\xa0\\nagain as a much larger urban area in which this is\\xa0\\xa0', start=1466.08, duration=7.52), FetchedTranscriptSnippet(text='the centerpiece, but the rest of the gardens on\\xa0\\nboth banks of the river are to be considered part\\xa0\\xa0', start=1473.6, duration=6.88), FetchedTranscriptSnippet(text='of the same Taj Mahal complex. The whole site is\\xa0\\nnot complete unless we appreciate what the site\\xa0\\xa0', start=1480.48, duration=6.88), FetchedTranscriptSnippet(text='stands for and not just a single building on a\\xa0\\npedestal. Thanks to new investigation techniques,\\xa0\\xa0', start=1487.36, duration=7.0), FetchedTranscriptSnippet(text='researchers can determine that the architectural\\xa0\\ncomplex of the Taj Mahal was nearly three times\\xa0\\xa0', start=1494.36, duration=5.8), FetchedTranscriptSnippet(text='larger than today, exposing the talents of\\xa0\\nbuilders who place this mausoleum in the center\\xa0\\xa0', start=1500.16, duration=6.68), FetchedTranscriptSnippet(text='of a monumental architectural complex of 475,000\\xa0\\nsquare meters, the equivalent of 66 soccer fields.\\xa0\\xa0', start=1506.84, duration=21.48), FetchedTranscriptSnippet(text='In the heart of India rises the Taj Mahal,\\xa0\\na monumental mausoleum whose dome soars 73\\xa0\\xa0', start=1530.4, duration=7.04), FetchedTranscriptSnippet(text='meters high, overlooking the sacred Yamuna\\xa0\\nRiver. How could a monument of this size be\\xa0\\xa0', start=1537.44, duration=7.28), FetchedTranscriptSnippet(text='built on the shifting banks of one of the\\xa0\\nlargest rivers in India? Building the Taj\\xa0\\xa0', start=1544.72, duration=6.04), FetchedTranscriptSnippet(text='Mahal was incredibly difficult because\\xa0\\nof the terrain in which it is located.\\xa0\\xa0', start=1550.76, duration=7.04), FetchedTranscriptSnippet(text='The builders had two major challenges to take into\\xa0\\naccount when constructing the Taj Mahal. The first\\xa0\\xa0', start=1559.0, duration=0.767), FetchedTranscriptSnippet(text='was the weight of the building. Since the ground\\xa0\\nsupporting it There are two major challenges\\xa0\\xa0', start=1559.767, duration=1.233), FetchedTranscriptSnippet(text='to take into account when constructing the Taj\\xa0\\nMahal. The first was the weight of the building,\\xa0\\xa0', start=1561.0, duration=6.24), FetchedTranscriptSnippet(text='since the ground supporting it had to withstand\\xa0\\nabout 25 tons of pressure per square meter,\\xa0\\xa0', start=1567.24, duration=4.52), FetchedTranscriptSnippet(text='which is enormous. Then its location next to\\xa0\\nthe Amuna river, which is known to have strong\\xa0\\xa0', start=1571.76, duration=6.28), FetchedTranscriptSnippet(text='sedimentation resulting in extensive erosion.\\xa0\\nScientists have analyzed the subsoil of the Taj\\xa0\\xa0', start=1578.04, duration=7.96), FetchedTranscriptSnippet(text='Mahal and discovered a mixture of clay and silty\\xa0\\ndeposits, extremely loose particles unsuitable\\xa0\\xa0', start=1586.0, duration=7.32), FetchedTranscriptSnippet(text='for supporting a 25,000-ton monument. You cannot\\xa0\\nbuild a building like this on soft soil unless\\xa0\\xa0', start=1593.32, duration=7.28), FetchedTranscriptSnippet(text='you have very firm foundations. You have to\\xa0\\ncreate some kind of solid base. So how is the\\xa0\\xa0', start=1600.6, duration=9.48), FetchedTranscriptSnippet(text='monumental structure of the Taj Mahal supported?\\xa0\\nThe foundations are inaccessible to investigators,\\xa0\\xa0', start=1610.08, duration=6.8), FetchedTranscriptSnippet(text='buried several meters deep under the building.\\xa0\\nBut clues can be found by examining soils by\\xa0\\xa0', start=1616.88, duration=5.8), FetchedTranscriptSnippet(text='georadar and analyzing materials with a\\xa0\\nscanning electron microscope. Scientists\\xa0\\xa0', start=1622.68, duration=7.0), FetchedTranscriptSnippet(text='want to understand how builders manage to\\xa0\\nconstruct the monument at this site. We\\xa0\\xa0', start=1629.68, duration=7.72), FetchedTranscriptSnippet(text='want to obtain accurate maps of what we would be\\xa0\\nlikely to find during archaeological excavations,\\xa0\\xa0', start=1637.4, duration=5.2), FetchedTranscriptSnippet(text='but without having to dig. The geophysical\\xa0\\ninvestigations allow us to see elements at depth\\xa0\\xa0', start=1642.6, duration=5.92), FetchedTranscriptSnippet(text='and produce a detailed map of the subsoil.\\xa0\\nScientists have used GEO-Radar to discover a\\xa0\\xa0', start=1648.52, duration=7.52), FetchedTranscriptSnippet(text='layer of hard soil, located at about 19 meters in\\xa0\\ndepth. A sandstone layer several meters thick on\\xa0\\xa0', start=1656.04, duration=7.28), FetchedTranscriptSnippet(text='which the foundations of the mausoleum rest. But\\xa0\\nhow did the Mughal architects create foundations\\xa0\\xa0', start=1663.32, duration=7.92), FetchedTranscriptSnippet(text='strong enough to support a 25,000 ton structure?\\xa0\\nTo understand, investigators examine the banks\\xa0\\xa0', start=1671.24, duration=7.4), FetchedTranscriptSnippet(text='of the Yamuna River a few kilometers south of\\xa0\\nthe site. Pushkar Sahoni is a specialist in\\xa0\\xa0', start=1678.64, duration=7.2), FetchedTranscriptSnippet(text='Indo-Islamic architecture. What appear to be wells\\xa0\\nare actually the piles that hold up this retaining\\xa0\\xa0', start=1685.84, duration=6.8), FetchedTranscriptSnippet(text='wall against the massive river of the Yamuna. And\\xa0\\npiles like this were made inside the riverbed.\\xa0\\xa0', start=1692.64, duration=9.72), FetchedTranscriptSnippet(text=\"Here is an example of this kind of pile. What you\\xa0\\nhave here, I'm standing in the center of a masonry\\xa0\\xa0\", start=1702.36, duration=6.88), FetchedTranscriptSnippet(text='well that is completely filled in with rubble and\\xa0\\nmortar. And this creates a pile inside the sandy\\xa0\\xa0', start=1709.24, duration=7.36), FetchedTranscriptSnippet(text='banks of the river. And so it can support a big\\xa0\\nweight, not just of me, but a million of me, which\\xa0\\xa0', start=1716.6, duration=6.68), FetchedTranscriptSnippet(text='would maybe make up the weight of the Taj Mahal.\\xa0\\n3D reconstructions exposed the principle of the\\xa0\\xa0', start=1723.28, duration=6.92), FetchedTranscriptSnippet(text='foundation well. Engineers designed brick wells,\\xa0\\nstretching all the way to the harder ground below.\\xa0\\xa0', start=1730.2, duration=7.84), FetchedTranscriptSnippet(text='They dug directly into the clay soils, searching\\xa0\\nfor the hard ground to create a footing. Then they\\xa0\\xa0', start=1741.8, duration=6.24), FetchedTranscriptSnippet(text='inserted a vertical wooden piling and filled in\\xa0\\naround it with material. Stonemasons used mortar\\xa0\\xa0', start=1748.04, duration=7.16), FetchedTranscriptSnippet(text='to waterproof the tanks. But how did they produce\\xa0\\na waterproof mortar when artificial cement would\\xa0\\xa0', start=1755.2, duration=10.28), FetchedTranscriptSnippet(text='not be invented until two centuries later?\\xa0\\nThe lime used in traditional mortars of the\\xa0\\xa0', start=1765.48, duration=5.68), FetchedTranscriptSnippet(text=\"time wasn't enough to make it waterproof. The\\xa0\\nmortar used for the construction of the Taj\\xa0\\xa0\", start=1771.16, duration=8.12), FetchedTranscriptSnippet(text='Mahal is a lime mortar. But for the construction\\xa0\\nof the wells, they used a mortar that allowed a\\xa0\\xa0', start=1779.28, duration=6.04), FetchedTranscriptSnippet(text='better resistance to water and erosion. They added\\xa0\\nelements that made the mortar impermeable. So what\\xa0\\xa0', start=1785.32, duration=11.52), FetchedTranscriptSnippet(text='is the secret of this water-resistant mortar?\\xa0\\nNow studying the mortar at a microscopic scale\\xa0\\xa0', start=1796.84, duration=6.84), FetchedTranscriptSnippet(text='exposes clues. So here I have the mortar sample,\\xa0\\nin powder form, that I will insert into the\\xa0\\xa0', start=1803.68, duration=6.44), FetchedTranscriptSnippet(text='scanning electron microscope in order to identify\\xa0\\nall the minerals that are present in the mortar.\\xa0\\xa0', start=1810.12, duration=7.84), FetchedTranscriptSnippet(text='The electron microscope bombards the material\\xa0\\nthat will be studied with electrons. First,\\xa0\\xa0', start=1817.96, duration=6.24), FetchedTranscriptSnippet(text=\"the mortar is placed in a vacuum chamber. It's\\xa0\\nlike going on a spacewalk. Astronauts can't be\\xa0\\xa0\", start=1824.2, duration=5.6), FetchedTranscriptSnippet(text='sent directly into space. They have to go through\\xa0\\na decompression chamber. As the electrons transmit\\xa0\\xa0', start=1829.8, duration=7.08), FetchedTranscriptSnippet(text='through the sample, a very high resolution image\\xa0\\nof the material surface structure is revealed. So\\xa0\\xa0', start=1836.88, duration=8.64), FetchedTranscriptSnippet(text=\"here we start to see the mortar and the minerals\\xa0\\nit's made of. We can achieve a magnification of\\xa0\\xa0\", start=1845.52, duration=8.56), FetchedTranscriptSnippet(text='between 10,000 and 50,000, compared to optical\\xa0\\nmicroscopes, which reach a magnification of just\\xa0\\xa0', start=1854.08, duration=6.44), FetchedTranscriptSnippet(text='1,500. The microscopic study reveals that this\\xa0\\nmortar is not only made of minerals. We can see\\xa0\\xa0', start=1860.52, duration=9.32), FetchedTranscriptSnippet(text='that the mortar is also made up of small grains,\\xa0\\nwhose appearance is reminiscent of the morphology\\xa0\\xa0', start=1869.84, duration=6.24), FetchedTranscriptSnippet(text=\"of plants. And probably it's actually seeds. It's\\xa0\\nquite surprising to find plant debris in mortar.\\xa0\\xa0\", start=1876.08, duration=11.84), FetchedTranscriptSnippet(text=\"Several types of plants have been identified. I\\xa0\\nalso isolated black particles. It's hard to tell\\xa0\\xa0\", start=1888.44, duration=8.44), FetchedTranscriptSnippet(text='if they are mineral or plant species. But they\\xa0\\ncould be spices, like pepper, for example. By\\xa0\\xa0', start=1896.88, duration=8.88), FetchedTranscriptSnippet(text='analyzing the composition of the mortar under\\xa0\\nthe microscope, scientists have discovered the\\xa0\\xa0', start=1905.76, duration=5.2), FetchedTranscriptSnippet(text='presence of many natural materials. Sugar, spices,\\xa0\\nchickpea flour, a local fruit, and tree resin.\\xa0\\xa0', start=1910.96, duration=9.92), FetchedTranscriptSnippet(text='Investigators have shown that the ingredients have\\xa0\\nhighly impermeable properties. This analysis of\\xa0\\xa0', start=1920.88, duration=9.8), FetchedTranscriptSnippet(text='the mortar, coupled with the analysis and mapping\\xa0\\nof the geophysical surveys, allows us to establish\\xa0\\xa0', start=1930.68, duration=6.08), FetchedTranscriptSnippet(text=\"a more precise plan of the foundations. A 3D model\\xa0\\nexposes the scale of the Taj Mahal's foundations.\\xa0\\xa0\", start=1936.76, duration=9.52), FetchedTranscriptSnippet(text='Hundreds of shafts support the phenomenal\\xa0\\nweight of the monument across nearly 35,000\\xa0\\xa0', start=1946.28, duration=5.76), FetchedTranscriptSnippet(text='square meters. So what you have in effect is\\xa0\\nsomething that almost looks like a bed of nails\\xa0\\xa0', start=1952.04, duration=6.56), FetchedTranscriptSnippet(text='turned upside down on which the building is built.\\xa0\\nOf course, the nails we are talking of are nails\\xa0\\xa0', start=1958.6, duration=6.48), FetchedTranscriptSnippet(text='that are large and also very deep. The shafts\\xa0\\nare connected to each other by brick arches,\\xa0\\xa0', start=1965.08, duration=7.8), FetchedTranscriptSnippet(text='which distribute the weight. A 3D image of\\xa0\\nthe foundations exposes the talent of the Taj\\xa0\\xa0', start=1972.88, duration=6.36), FetchedTranscriptSnippet(text=\"Mahal's engineers, who built a solid and efficient\\xa0\\nstructure that would survive the centuries. As we\\xa0\\xa0\", start=1979.24, duration=7.56), FetchedTranscriptSnippet(text='can see, the building has stood the test of time\\xa0\\ncompletely. It has managed to survive all kinds\\xa0\\xa0', start=1986.8, duration=7.12), FetchedTranscriptSnippet(text='of floods, earthquakes, and heavy rains. Today,\\xa0\\nhowever, scientists are alarmed by the Yamuna\\xa0\\xa0', start=1993.92, duration=9.0), FetchedTranscriptSnippet(text=\"River's decreasing water level. Records of drought\\xa0\\nand heat taken each year suggest a looming threat\\xa0\\xa0\", start=2002.92, duration=7.28), FetchedTranscriptSnippet(text=\"to the structure of the Taj Mahal's foundations.\\xa0\\nA key element of each foundation shaft is the wood\\xa0\\xa0\", start=2010.2, duration=6.56), FetchedTranscriptSnippet(text='that runs through them, wood that survived until\\xa0\\ntoday, because the foundations were submerged by\\xa0\\xa0', start=2016.76, duration=5.8), FetchedTranscriptSnippet(text='river water, creating an oxygen-free environment.\\xa0\\nThe fact that the wood is dry when it has been wet\\xa0\\xa0', start=2022.56, duration=7.64), FetchedTranscriptSnippet(text='for hundreds of years will create instabilities\\xa0\\nto the supports of the platform and therefore the\\xa0\\xa0', start=2030.2, duration=5.16), FetchedTranscriptSnippet(text=\"monument itself. This will create fragility. So\\xa0\\nthere's a regular monitoring of these foundation\\xa0\\xa0\", start=2035.36, duration=6.24), FetchedTranscriptSnippet(text='shafts. Despite the environmental risks, the Taj\\xa0\\nMahal remains one of the most stable monuments\\xa0\\xa0', start=2041.6, duration=7.84), FetchedTranscriptSnippet(text='in the Indo-Islamic world thanks to revolutionary\\xa0\\nconstruction techniques. The Taj Mahal represents\\xa0\\xa0', start=2049.44, duration=6.92), FetchedTranscriptSnippet(text='an amalgamation of construction techniques\\xa0\\nwhich do not only come from India. They are\\xa0\\xa0', start=2056.36, duration=5.0), FetchedTranscriptSnippet(text='also imported from Central Asia, from the Iranian\\xa0\\nworld. These are notably used in the construction\\xa0\\xa0', start=2061.36, duration=5.8), FetchedTranscriptSnippet(text='of military works, forts and also dams. The\\xa0\\nfoundations of the mausoleum are inspired by\\xa0\\xa0', start=2067.16, duration=7.88), FetchedTranscriptSnippet(text='military architecture and civil engineering and\\xa0\\nare intended to be indestructible. They represent\\xa0\\xa0', start=2075.04, duration=6.12), FetchedTranscriptSnippet(text='the most successful construction techniques of\\xa0\\nAsia at the time of the Emperor Shah Jahan. The\\xa0\\xa0', start=2081.16, duration=9.52), FetchedTranscriptSnippet(text='Taj Mahal was built by the Emperor Shah Jahan\\xa0\\n400 years ago, after the death of his wife.\\xa0\\xa0', start=2090.68, duration=6.96), FetchedTranscriptSnippet(text=\"Today it's a symbol of beauty. Millions of\\xa0\\nvisitors come every year to admire this icon\\xa0\\xa0\", start=2099.4, duration=5.56), FetchedTranscriptSnippet(text='of perfection. But what is the secret\\xa0\\nto its appearance? This architectural\\xa0\\xa0', start=2104.96, duration=5.2), FetchedTranscriptSnippet(text='masterpiece shines because of the marble\\xa0\\nthat covers the monument. The magic of\\xa0\\xa0', start=2110.16, duration=4.84), FetchedTranscriptSnippet(text='the Taj Mahal lies in its changing color.\\xa0\\nGray, blue, pink, white, orange. You have\\xa0\\xa0', start=2115.0, duration=13.52), FetchedTranscriptSnippet(text='marble. It has grain that is slightly gray and\\xa0\\nblack. And it lends itself to very pleasing,\\xa0\\xa0', start=2128.52, duration=8.12), FetchedTranscriptSnippet(text='changing surfaces. It interacts with the\\xa0\\natmosphere. It interacts with the weather\\xa0\\xa0', start=2136.64, duration=5.84), FetchedTranscriptSnippet(text='and looks different in different kinds of light in\\xa0\\ndifferent seasons. This transforming color palette\\xa0\\xa0', start=2142.48, duration=8.24), FetchedTranscriptSnippet(text=\"is due to the specific marble chosen by architects\\xa0\\nto cover the Taj Mahal. It's a unique stone.\\xa0\\xa0\", start=2150.72, duration=6.92), FetchedTranscriptSnippet(text=\"Examining samples under the microscope reveals\\xa0\\nthat it's composed of dolomite, a mineral more\\xa0\\xa0\", start=2158.48, duration=6.44), FetchedTranscriptSnippet(text='resistant than limestone, but with other similar\\xa0\\nproperties, especially its exceptional capacity\\xa0\\xa0', start=2164.92, duration=6.52), FetchedTranscriptSnippet(text='to reflect the light. This marble comes from the\\xa0\\nMakrana mines, 400 kilometers from the Taj Mahal.\\xa0\\xa0', start=2171.44, duration=7.68), FetchedTranscriptSnippet(text='Examining the area on a satellite scale exposes\\xa0\\ndeep gashes that pierce the ground surface. At\\xa0\\xa0', start=2179.12, duration=6.92), FetchedTranscriptSnippet(text='the foot of the Aravali mountain range, there\\xa0\\nare more than 400 quarries that still extract\\xa0\\xa0', start=2186.04, duration=5.64), FetchedTranscriptSnippet(text='Makrana marble. The mine is spread over 20\\xa0\\nkilometers. Now we have reached 90 meters\\xa0\\xa0', start=2191.68, duration=6.72), FetchedTranscriptSnippet(text='deep. It will never run out. There will always\\xa0\\nbe marble. There have been surveys up to 300\\xa0\\xa0', start=2198.4, duration=5.68), FetchedTranscriptSnippet(text='meters deep. There will always be marble. There\\xa0\\nhave been surveys up to 300 meters deep. This rock\\xa0\\xa0', start=2204.08, duration=4.6), FetchedTranscriptSnippet(text='was formed nearly 400 million years ago by a rise\\xa0\\nin temperature and pressure deep within the earth.\\xa0\\xa0', start=2208.68, duration=9.04), FetchedTranscriptSnippet(text='Impurities in the minerals create its unique\\xa0\\ncolor and its marbling, features which make\\xa0\\xa0', start=2217.72, duration=5.84), FetchedTranscriptSnippet(text='Makrana marble unique. This marble came out of the\\xa0\\nmine and weighs five tons. It will be brought to\\xa0\\xa0', start=2223.56, duration=10.84), FetchedTranscriptSnippet(text='the factory by truck, and then it will be cut.\\xa0\\nWhen the Taj Mahal was built, Makrana marble\\xa0\\xa0', start=2234.4, duration=6.92), FetchedTranscriptSnippet(text='from these mines was cut into slabs by stonemasons\\xa0\\nbefore being transported to the building site. The\\xa0\\xa0', start=2241.32, duration=7.2), FetchedTranscriptSnippet(text='brilliance of the stone would become the defining\\xa0\\nfeature of the monument. However, a few years ago,\\xa0\\xa0', start=2248.52, duration=5.2), FetchedTranscriptSnippet(text='scientists realized that the marble was losing its\\xa0\\nshine and becoming yellow. There was an enormous\\xa0\\xa0', start=2253.72, duration=5.68), FetchedTranscriptSnippet(text='problem with deposits of several hundred years\\xa0\\nthat had accumulated on the marble. And these\\xa0\\xa0', start=2259.4, duration=6.44), FetchedTranscriptSnippet(text='had to be removed because they were giving the\\xa0\\nTaj Mahal a permanent yellow tinge. So how do\\xa0\\xa0', start=2265.84, duration=7.2), FetchedTranscriptSnippet(text='you restore the splendor and shine of marble?\\xa0\\nEngineers in charge of cleaning the monument\\xa0\\xa0', start=2273.04, duration=5.52), FetchedTranscriptSnippet(text='found a solution that was inspired by ancient\\xa0\\ntechniques, avoiding the irreversible damage\\xa0\\xa0', start=2278.56, duration=5.64), FetchedTranscriptSnippet(text='caused by many modern chemical substances. And\\xa0\\nthis was done using a variety of treatments,\\xa0\\xa0', start=2284.2, duration=6.12), FetchedTranscriptSnippet(text=\"mostly reversible and natural treatments, such\\xa0\\nas using Multani Mitti or Fuehler's Earth as a\\xa0\\xa0\", start=2290.32, duration=6.28), FetchedTranscriptSnippet(text='poultice on the surfaces, which would absorb\\xa0\\nall the contaminants. This cleaning technique\\xa0\\xa0', start=2296.6, duration=6.52), FetchedTranscriptSnippet(text='sometimes appears to be more like a beauty\\xa0\\ntreatment than a maintenance procedure.\\xa0\\xa0', start=2303.12, duration=4.68), FetchedTranscriptSnippet(text='The cleaning processes that have been used on the\\xa0\\nTaj have involved Multani Mitti, which is used\\xa0\\xa0', start=2307.8, duration=6.36), FetchedTranscriptSnippet(text='commonly as a face pack. And the same is happening\\xa0\\nwith the Taj, where Multani Mitti has been used to\\xa0\\xa0', start=2314.16, duration=6.56), FetchedTranscriptSnippet(text=\"cover the face of this beautiful maiden, and\\xa0\\nthen it's been removed to make it glow again,\\xa0\\xa0\", start=2320.72, duration=5.52), FetchedTranscriptSnippet(text=\"timelessly. The secret of this technique's success\\xa0\\ncan be revealed by modern science. Examining the\\xa0\\xa0\", start=2326.24, duration=8.68), FetchedTranscriptSnippet(text='mixture on a molecular scale exposes a bentonite\\xa0\\nclay called Multani-Miti. This volcanic clay\\xa0\\xa0', start=2334.92, duration=8.16), FetchedTranscriptSnippet(text='is composed of potassium, sodium, calcium, and\\xa0\\naluminum, molecules with the property of absorbing\\xa0\\xa0', start=2343.08, duration=7.08), FetchedTranscriptSnippet(text='toxins from the rock to restore its purity. Ground\\xa0\\nto a powder and spread on the marble, it becomes\\xa0\\xa0', start=2350.16, duration=6.8), FetchedTranscriptSnippet(text='a perfect beauty mask for the iconic Taj Mahal.\\xa0\\nUnfortunately, this marble also looks different in\\xa0\\xa0', start=2356.96, duration=7.92), FetchedTranscriptSnippet(text='different kinds of pollution. And so a number of\\xa0\\nair polluting industries around the area were shut\\xa0\\xa0', start=2364.88, duration=6.24), FetchedTranscriptSnippet(text='down in the previous few decades. To mitigate the\\xa0\\nrisks of pollution, the Indian authorities have\\xa0\\xa0', start=2371.12, duration=8.08), FetchedTranscriptSnippet(text='excluded all polluting industries in a 10,400\\xa0\\nsquare kilometer area around the Taj Mahal,\\xa0\\xa0', start=2379.2, duration=7.56), FetchedTranscriptSnippet(text='and banned motor vehicles in a four kilometer\\xa0\\nsquare radius around the monument. Today, the Taj\\xa0\\xa0', start=2386.76, duration=10.8), FetchedTranscriptSnippet(text=\"Mahal shines as if it's new, impressing the\\xa0\\nmillions of visitors who come to marvel at its\\xa0\\xa0\", start=2397.56, duration=2.818), FetchedTranscriptSnippet(text='perfection each year. impressing the millions of\\xa0\\nvisitors who come to marvel at its perfection each\\xa0\\xa0', start=2400.378, duration=4.542), FetchedTranscriptSnippet(text='year. But does the Taj Mahal really achieve true\\xa0\\nperfection? And how can perfection be evaluated?\\xa0\\xa0', start=2404.92, duration=11.04), FetchedTranscriptSnippet(text='The monument appears to be perfectly balanced\\xa0\\nand symmetrical. It stretches 60 meters on each\\xa0\\xa0', start=2415.96, duration=6.0), FetchedTranscriptSnippet(text='side and its dome towers 73 meters high. The Taj\\xa0\\nDome is a central attraction. When you see the\\xa0\\xa0', start=2421.96, duration=7.36), FetchedTranscriptSnippet(text='monument, the dome is so huge and so beautiful, it\\xa0\\nalmost looks like a balloon that is going to lift\\xa0\\xa0', start=2429.32, duration=6.4), FetchedTranscriptSnippet(text='the rest of the monument up. To the naked eye,\\xa0\\nthe dome appears to be perfectly proportioned.\\xa0\\xa0', start=2435.72, duration=7.64), FetchedTranscriptSnippet(text='It was a colleague of mine who said the dome is\\xa0\\nnot a symmetry. I found it very strange to believe\\xa0\\xa0', start=2443.36, duration=7.28), FetchedTranscriptSnippet(text='this. So in order to check that, we took the\\xa0\\ncenter of the drum and the center of the finial,\\xa0\\xa0', start=2450.64, duration=7.08), FetchedTranscriptSnippet(text='and we drew a central line. And we took\\xa0\\nequidistant intervals, and we measured the\\xa0\\xa0', start=2457.72, duration=5.68), FetchedTranscriptSnippet(text='right side and measured the left. So here, the\\xa0\\ndrum is equal, but as you see, one side of the\\xa0\\xa0', start=2463.4, duration=6.76), FetchedTranscriptSnippet(text='curve bulges more than the left side of the curve.\\xa0\\nSo the largest bulge is about 62 centimeters. The\\xa0\\xa0', start=2470.16, duration=8.28), FetchedTranscriptSnippet(text='62 centimeter difference between the two curves\\xa0\\nof the dome is a notable difference in terms of\\xa0\\xa0', start=2478.44, duration=1.678), FetchedTranscriptSnippet(text=\"construction, even if it's not obvious visually.\\xa0\\nIt's a three-dimensional object, between the two\\xa0\\xa0\", start=2480.118, duration=0.802), FetchedTranscriptSnippet(text=\"curves of the dome is a notable difference\\xa0\\nin terms of construction, even if it's not\\xa0\\xa0\", start=2480.92, duration=5.2), FetchedTranscriptSnippet(text=\"obvious visually. It's a three-dimensional\\xa0\\nobject, so it has this onion-shaped exterior,\\xa0\\xa0\", start=2486.12, duration=7.36), FetchedTranscriptSnippet(text=\"and the interior is hollow. So it's not easy to\\xa0\\nhave a plumb line in the center from which you\\xa0\\xa0\", start=2493.48, duration=5.64), FetchedTranscriptSnippet(text=\"can measure when you're building. So I don't think\\xa0\\nit was an intentional asymmetry. I think it is a\\xa0\\xa0\", start=2499.12, duration=6.92), FetchedTranscriptSnippet(text='complexity of a three dimension. And there are\\xa0\\nother anomalies identified by archaeologists.\\xa0\\xa0', start=2506.04, duration=8.8), FetchedTranscriptSnippet(text='Using modern measurement techniques, such\\xa0\\nas photogrammetry and laser measurements,\\xa0\\xa0', start=2514.84, duration=4.76), FetchedTranscriptSnippet(text='investigators discovered that the Taj Mahal has\\xa0\\nsymmetry defects in other symbolic areas of the\\xa0\\xa0', start=2519.6, duration=5.4), FetchedTranscriptSnippet(text=\"building such as the minarets. It's been a bit as\\xa0\\nyou can see that's likely to did out word. I don't\\xa0\\xa0\", start=2525.0, duration=7.08), FetchedTranscriptSnippet(text='think it is a imperfection or a mistake I think it\\xa0\\nthat is a deliberate kind of tilt because in case\\xa0\\xa0', start=2532.08, duration=8.08), FetchedTranscriptSnippet(text='there was a way and the minute had to fall off\\xa0\\nif it was straight it was quite likely it would\\xa0\\xa0', start=2540.16, duration=5.92), FetchedTranscriptSnippet(text=\"fall on the monument and damage the monument. So\\xa0\\nI wouldn't call it imperfect, but it is a part of\\xa0\\xa0\", start=2546.08, duration=6.56), FetchedTranscriptSnippet(text='the design. For some archaeologists, these are not\\xa0\\nmistakes, but deliberate decisions by architects,\\xa0\\xa0', start=2552.64, duration=9.2), FetchedTranscriptSnippet(text='whether for structural reasons in the case of\\xa0\\nthe minarets or for geometric reasons to trick\\xa0\\xa0', start=2561.84, duration=5.4), FetchedTranscriptSnippet(text=\"the eye. It's a perspective to give visitors\\xa0\\nan impression of geometry and perfection,\\xa0\\xa0\", start=2567.24, duration=7.92), FetchedTranscriptSnippet(text=\"even when it's not the case. From the start, we\\xa0\\nhave a construction with elements deliberately\\xa0\\xa0\", start=2575.16, duration=4.96), FetchedTranscriptSnippet(text='misdirected to give the viewer that sense of\\xa0\\ngeometric perfection. Even the imperfections\\xa0\\xa0', start=2580.12, duration=7.56), FetchedTranscriptSnippet(text='of the Taj Mahal, whether intentional or not,\\xa0\\nserve the splendor of the monument and reveal\\xa0\\xa0', start=2587.68, duration=6.12), FetchedTranscriptSnippet(text='the harmony that its architects aimed for. If you\\xa0\\nsay perfection is by precise measurement, then you\\xa0\\xa0', start=2593.8, duration=6.44), FetchedTranscriptSnippet(text='can find flaws. So I think perfection in itself\\xa0\\nhas both subjective and objective connotations.\\xa0\\xa0', start=2600.24, duration=7.52), FetchedTranscriptSnippet(text=\"So however it is, I think it's a very beautiful\\xa0\\nand breathtaking monument, no doubt, whether you\\xa0\\xa0\", start=2607.76, duration=5.8), FetchedTranscriptSnippet(text='call it perfect or imperfect. The magnificence of\\xa0\\nthe Taj Mahal goes beyond its incredible symmetry\\xa0\\xa0', start=2613.56, duration=17.64), FetchedTranscriptSnippet(text='and gigantic proportions. The walls of the\\xa0\\nfacade and the interior of the mausoleum\\xa0\\xa0', start=2631.2, duration=5.84), FetchedTranscriptSnippet(text=\"are decorated with thousands of floral patterns.\\xa0\\nBut how could the monument's builders have created\\xa0\\xa0\", start=2637.6, duration=5.96), FetchedTranscriptSnippet(text='such intricate and colorful detail in marble, a\\xa0\\nparticularly hard rock? Analyzing the patterns in\\xa0\\xa0', start=2643.56, duration=7.08), FetchedTranscriptSnippet(text=\"detail reveals that they are formed from stones\\xa0\\ninlaid into marble. It's a technique still used\\xa0\\xa0\", start=2650.64, duration=6.64), FetchedTranscriptSnippet(text='today by the descendants of the craftsmen who\\xa0\\nworked on the Taj Mahal 400 years ago. worked\\xa0\\xa0', start=2657.28, duration=2.88), FetchedTranscriptSnippet(text=\"on the Taj Mahal 400 years ago. We're currently\\xa0\\nplacing the mortar to inlay the gemstones. The\\xa0\\xa0\", start=2660.16, duration=11.44), FetchedTranscriptSnippet(text='technique is called pietra dura, the inlay of\\xa0\\nprecious stones. Here, they cut the stones. The\\xa0\\xa0', start=2671.6, duration=13.64), FetchedTranscriptSnippet(text=\"design of the flower is made here. Some of the\\xa0\\ncolorful gems used in the Taj Mahal aren't found\\xa0\\xa0\", start=2685.24, duration=9.84), FetchedTranscriptSnippet(text='in India. A recent study by the Gemological\\xa0\\nInstitute of America has discovered the exact\\xa0\\xa0', start=2695.08, duration=6.48), FetchedTranscriptSnippet(text='provenance of each of the stones in the Taj Mahal,\\xa0\\nrevealing that the stones were sourced from all\\xa0\\xa0', start=2701.56, duration=5.96), FetchedTranscriptSnippet(text='over the world. The Taj Mahal was planned as one\\xa0\\nof the symbolic monuments of the empire of Shah\\xa0\\xa0', start=2707.52, duration=9.08), FetchedTranscriptSnippet(text='Jahan, and that was reinforced by using precious\\xa0\\nstones sourced from all over the empire. So there\\xa0\\xa0', start=2716.6, duration=6.76), FetchedTranscriptSnippet(text='are garnets that come directly from India, lapis\\xa0\\nlazuli from Afghanistan, carnelian from outside\\xa0\\xa0', start=2723.36, duration=5.96), FetchedTranscriptSnippet(text='the empire from the Iranian and Iraqi world. Other\\xa0\\nstones came from even further away. Emeralds mined\\xa0\\xa0', start=2729.32, duration=8.4), FetchedTranscriptSnippet(text='in the Americas arrived by boat. Amber from Europe\\xa0\\nwas transported over land. Diamonds came from\\xa0\\xa0', start=2737.72, duration=6.84), FetchedTranscriptSnippet(text='Africa. Lapis lazuli from Iran. Stones from far\\xa0\\nbeyond the Mughal Empire. The fact that the Mughal\\xa0\\xa0', start=2744.56, duration=10.2), FetchedTranscriptSnippet(text='Empire was an agricultural and also military power\\xa0\\nallowed the development of a whole network of\\xa0\\xa0', start=2754.76, duration=5.64), FetchedTranscriptSnippet(text='roads throughout the empire. And these roads also\\xa0\\nserved to supply materials to the great capitals\\xa0\\xa0', start=2760.4, duration=6.04), FetchedTranscriptSnippet(text='of this period under Shah Jahan. By choosing\\xa0\\nprecious stones from all over the planet, builders\\xa0\\xa0', start=2766.44, duration=7.72), FetchedTranscriptSnippet(text='wanted to symbolically place the Taj Mahal at\\xa0\\nthe center of the world. Researchers today are\\xa0\\xa0', start=2774.16, duration=6.36), FetchedTranscriptSnippet(text='still impressed by the sheer magnitude of the\\xa0\\ndetailed stonework carried out at the Taj Mahal.\\xa0\\xa0', start=2780.52, duration=6.4), FetchedTranscriptSnippet(text='The use of these different materials, these\\xa0\\nprecious stones, is exceptional for this period,\\xa0\\xa0', start=2788.96, duration=4.8), FetchedTranscriptSnippet(text=\"because we don't usually find that same richness,\\xa0\\nthe use of all these precious stones in a single\\xa0\\xa0\", start=2793.76, duration=4.96), FetchedTranscriptSnippet(text='monument. The inlay of the Taj is exquisite\\xa0\\nbecause while it is something that has to be\\xa0\\xa0', start=2798.72, duration=11.24), FetchedTranscriptSnippet(text='done precisely on a small scale, it covers\\xa0\\nentire surfaces. And just sourcing these\\xa0\\xa0', start=2809.96, duration=7.08), FetchedTranscriptSnippet(text='stones of different colors from various places in\\xa0\\nthe empire and indeed across the world itself was\\xa0\\xa0', start=2817.04, duration=6.56), FetchedTranscriptSnippet(text='an extraordinary feat. The quality of stonework\\xa0\\nrequired exceptional craftsmanship and skill,\\xa0\\xa0', start=2823.6, duration=8.6), FetchedTranscriptSnippet(text='another sign that this monumental mausoleum\\xa0\\nwas as much a show of power for the emperor\\xa0\\xa0', start=2832.2, duration=5.6), FetchedTranscriptSnippet(text='Shah Jahan as the creation of a\\xa0\\nmasterpiece close to perfection.\\xa0\\xa0', start=2837.8, duration=9.04), FetchedTranscriptSnippet(text='The emperor and his architects had created one of\\xa0\\nthe most beautiful monuments in the Mughal Empire,\\xa0\\xa0', start=2850.76, duration=6.72), FetchedTranscriptSnippet(text='but their project was even more ambitious. The\\xa0\\ndesigners of the Taj Mahal wanted to reproduce\\xa0\\xa0', start=2857.48, duration=6.88), FetchedTranscriptSnippet(text='paradise on Earth. The layout of various\\xa0\\ncourtyards that led to the mausoleum itself\\xa0\\xa0', start=2864.36, duration=5.52), FetchedTranscriptSnippet(text='played a role. The successive spaces, from the\\xa0\\ncaravanserai to the mausoleum, corresponded to\\xa0\\xa0', start=2869.88, duration=7.08), FetchedTranscriptSnippet(text='a spiritual path. This is the courtyard just in\\xa0\\nfront of the actual innermost enclosure garden of\\xa0\\xa0', start=2876.96, duration=9.08), FetchedTranscriptSnippet(text='the Taj Mahal. And so one has to think of the Taj\\xa0\\nMahal as a series of movements. Just like you have\\xa0\\xa0', start=2886.04, duration=8.6), FetchedTranscriptSnippet(text='in a musical composition where you might build\\xa0\\nup. You go on till you come to the crescendo. And\\xa0\\xa0', start=2894.64, duration=7.36), FetchedTranscriptSnippet(text='this is the last place where the building will be\\xa0\\nslowly revealed to you. And as you approach this\\xa0\\xa0', start=2902.0, duration=7.72), FetchedTranscriptSnippet(text=\"doorway, you will slowly see parts of it emerge.\\xa0\\nAnd so it's like a teaser. And once you get to\\xa0\\xa0\", start=2909.72, duration=7.08), FetchedTranscriptSnippet(text='that entrance, suddenly it really comes up upon\\xa0\\nyou. A symbolic passage from the terrestrial world\\xa0\\xa0', start=2916.8, duration=8.12), FetchedTranscriptSnippet(text='to the celestial. Inside the final enclosure,\\xa0\\nsatellite images upon you. A symbolic passage from\\xa0\\xa0', start=2924.92, duration=5.555), FetchedTranscriptSnippet(text='the terrestrial world to the celestial. Inside the\\xa0\\nfinal enclosure, satellite images reveal that the\\xa0\\xa0', start=2930.475, duration=0.965), FetchedTranscriptSnippet(text='garden is divided by four water channels. The Holy\\xa0\\nQuran repeatedly promises the faithful gardens\\xa0\\xa0', start=2931.44, duration=8.08), FetchedTranscriptSnippet(text='beneath which rivers flow as their final resting\\xa0\\nspace. So paradise is really defined by the four\\xa0\\xa0', start=2939.52, duration=5.6), FetchedTranscriptSnippet(text='rivers of paradise, but that is most evident at\\xa0\\nthe Taj Mahal, where the water flowing represents\\xa0\\xa0', start=2945.12, duration=6.84), FetchedTranscriptSnippet(text='the four rivers of paradise. The mausoleum itself\\xa0\\nis an octagon, a significant choice. The Holy\\xa0\\xa0', start=2951.96, duration=8.4), FetchedTranscriptSnippet(text='Quran talks about the eight gateways of paradise,\\xa0\\nand the central tomb chamber at the Taj Mahal is\\xa0\\xa0', start=2960.36, duration=7.28), FetchedTranscriptSnippet(text='surrounded by eight chambers, which represent the\\xa0\\nHasht Bheesh, or the eight gateways of paradise.\\xa0\\xa0', start=2967.64, duration=5.48), FetchedTranscriptSnippet(text='The dome and the minarets represent the ascent of\\xa0\\nsouls to heaven. Even the imperfections found here\\xa0\\xa0', start=2973.12, duration=7.28), FetchedTranscriptSnippet(text='demonstrate the desire to represent paradise on\\xa0\\nearth. They believe that only God can be perfect.\\xa0\\xa0', start=2980.4, duration=7.0), FetchedTranscriptSnippet(text='Human beings are not perfect. And very often,\\xa0\\nthey do induce a small element of imperfection to\\xa0\\xa0', start=2987.4, duration=7.56), FetchedTranscriptSnippet(text='keep up to that work. The Taj Mahal is an icon of\\xa0\\nbeauty. Its stunning symmetry, exquisite detail,\\xa0\\xa0', start=2994.96, duration=8.92), FetchedTranscriptSnippet(text='and gleaming finish make this monument unique. I\\xa0\\nthink the Taj Mahal is an incredible building that\\xa0\\xa0', start=3003.88, duration=8.52), FetchedTranscriptSnippet(text=\"has caught the people's imagination for almost 400\\xa0\\nyears. New technology has allowed scientists to\\xa0\\xa0\", start=3012.4, duration=8.0), FetchedTranscriptSnippet(text='carry out a complete reassessment of the Taj Mahal\\xa0\\nand its grounds. Studying its foundations reveal\\xa0\\xa0', start=3020.4, duration=6.88), FetchedTranscriptSnippet(text='that the builders used techniques from civil and\\xa0\\nmilitary engineering in their quest to make the\\xa0\\xa0', start=3027.28, duration=5.04), FetchedTranscriptSnippet(text=\"building as resistant as possible. The Taj Mahal's\\xa0\\nlocation has been re-evaluated using new satellite\\xa0\\xa0\", start=3032.32, duration=6.44), FetchedTranscriptSnippet(text='images, exposing that the monument was once at the\\xa0\\ncenter of a complex much larger than today. that\\xa0\\xa0', start=3038.76, duration=1.56), FetchedTranscriptSnippet(text='the monument was once at the center of a complex\\xa0\\nmuch larger than today. The search for perfection\\xa0\\xa0', start=3040.32, duration=8.48), FetchedTranscriptSnippet(text='has been found in all aspects of construction,\\xa0\\nfrom the detail of the floral decoration to\\xa0\\xa0', start=3048.8, duration=6.12), FetchedTranscriptSnippet(text='the search for perfect symmetry. Not only is it\\xa0\\nabsolutely grand in scale, but it is also perfect\\xa0\\xa0', start=3054.92, duration=8.56), FetchedTranscriptSnippet(text=\"in symmetry. So the Taj can really be seen from\\xa0\\nthe moon or from two centimeters away, and it's\\xa0\\xa0\", start=3063.48, duration=5.8), FetchedTranscriptSnippet(text=\"perfect. The latest revelations reinforce the\\xa0\\nTaj Mahal's status as a mausoleum with no equal.\\xa0\\xa0\", start=3069.28, duration=7.88), FetchedTranscriptSnippet(text='Thanks to the latest technology, the Taj Mahal is\\xa0\\nexposed as much more than a simple mausoleum built\\xa0\\xa0', start=3077.16, duration=6.36), FetchedTranscriptSnippet(text='for love. The ambition to reproduce paradise\\xa0\\non Earth symbolizes the power of Shah Jahan,\\xa0\\xa0', start=3083.52, duration=7.28), FetchedTranscriptSnippet(text='and the skill of its construction ensures\\xa0\\nthe Taj Mahal still shines centuries later.', start=3090.8, duration=19.32)], video_id='g1Z4eSq6AAw', language='English', language_code='en', is_generated=False)"
            ]
          },
          "metadata": {},
          "execution_count": 7
        }
      ]
    },
    {
      "cell_type": "markdown",
      "source": [
        "**Step 1b - Indexing (Text Splitting)**"
      ],
      "metadata": {
        "id": "bx8rhkZbtZJv"
      }
    },
    {
      "cell_type": "code",
      "source": [
        "#create splitter object for chunking and initializing\n",
        "splitter = RecursiveCharacterTextSplitter(chunk_size = 1000, chunk_overlap = 200)\n",
        "chunks = splitter.create_documents([transcript])"
      ],
      "metadata": {
        "id": "i5DuJu2cnlrU"
      },
      "execution_count": 8,
      "outputs": []
    },
    {
      "cell_type": "code",
      "source": [
        "len(chunks)"
      ],
      "metadata": {
        "colab": {
          "base_uri": "https://localhost:8080/"
        },
        "id": "9F0V-cegytny",
        "outputId": "bf0b6117-eb93-4ea8-aaec-d7676c6c02ef"
      },
      "execution_count": 9,
      "outputs": [
        {
          "output_type": "execute_result",
          "data": {
            "text/plain": [
              "53"
            ]
          },
          "metadata": {},
          "execution_count": 9
        }
      ]
    },
    {
      "cell_type": "code",
      "source": [
        "chunks[0]"
      ],
      "metadata": {
        "colab": {
          "base_uri": "https://localhost:8080/"
        },
        "id": "NDiE8JhDy4Uw",
        "outputId": "8437110e-ba79-4975-e9bf-c1dffc0e8fc1"
      },
      "execution_count": 10,
      "outputs": [
        {
          "output_type": "execute_result",
          "data": {
            "text/plain": [
              "Document(metadata={}, page_content=\"Documentary In the north of India, in the city of Agra,\\xa0\\nstands the Taj Mahal, a monumental mausoleum\\xa0\\xa0 of white marble built almost 400 years ago on the\\xa0\\nbanks of the sacred Yamuna River. I don't think a\\xa0\\xa0 building like this will ever be created again. The\\xa0\\ndome of this mythical building towers 73 meters,\\xa0\\xa0 marking the heart of a vast architectural complex\\xa0\\nstretching 177,000 square meters. It's absolutely\\xa0\\xa0 grand in scale. So the Taj can really be seen\\xa0\\nfrom the moon or from two centimeters away,\\xa0\\xa0 and it's perfect. The Taj Mahal is a symbol\\xa0\\nof perfection. The Mughal emperor Shah Jahan\\xa0\\xa0 ordered it built in the 17th century as a monument\\xa0\\nof love, in memory of his wife Mumtaz Mahal. Today\\xa0\\xa0 it is one of the ten most visited monuments in\\xa0\\nthe world with nearly 7 million visitors each\\xa0\\xa0 year. The extraordinary mausoleum took builders\\xa0\\njust 18 years to complete and is considered one\\xa0\\xa0 of the seven wonders of the modern world. It\")"
            ]
          },
          "metadata": {},
          "execution_count": 10
        }
      ]
    },
    {
      "cell_type": "markdown",
      "source": [
        "**Step 1c & 1d - Indexing (Embedding Generation and Storing in Vector Store)**"
      ],
      "metadata": {
        "id": "OBuVvlCBzihx"
      }
    },
    {
      "cell_type": "code",
      "source": [
        "#create embedding and vector objects and initializing\n",
        "embeddings = GoogleGenerativeAIEmbeddings(model = \"models/gemini-embedding-001\")\n",
        "vector_store = FAISS.from_documents(chunks, embeddings)"
      ],
      "metadata": {
        "id": "5gDf7UTUzlP0"
      },
      "execution_count": 11,
      "outputs": []
    },
    {
      "cell_type": "code",
      "source": [
        "#map vectors to documents\n",
        "vector_store.index_to_docstore_id"
      ],
      "metadata": {
        "colab": {
          "base_uri": "https://localhost:8080/"
        },
        "id": "cBTCF_TJ1AIC",
        "outputId": "1d658bff-0719-45f4-9d91-54262b86c250"
      },
      "execution_count": 12,
      "outputs": [
        {
          "output_type": "execute_result",
          "data": {
            "text/plain": [
              "{0: '9909858a-fdff-4de6-8173-7242135e48fa',\n",
              " 1: 'efdcf569-ed17-4e7b-9d4f-71b774f223a1',\n",
              " 2: 'c90a56d5-dda4-4fbd-980e-015225439cc2',\n",
              " 3: '0b06bfbe-f609-4ca2-9ace-d9866841fbc5',\n",
              " 4: '97090c61-6bb4-4187-bfeb-f23e80e4f2f3',\n",
              " 5: '6fb1e1aa-634d-4cdf-aa64-d0586cc02430',\n",
              " 6: '66ec79f5-255d-4e1c-a545-6db8423aa59f',\n",
              " 7: 'da74aaf2-a66b-4b71-8691-af480b7a1aa5',\n",
              " 8: 'b7a53a3f-d1ae-4922-948e-c950bc4374e0',\n",
              " 9: 'e228cca7-44eb-4621-beb4-fc4964c08f89',\n",
              " 10: '7b77dd12-c6b4-4c81-bc14-d807b8f31836',\n",
              " 11: '63bace6f-762e-4307-ae0d-aad0aeb508b5',\n",
              " 12: '08637560-e03b-4493-878c-533a40b46cad',\n",
              " 13: 'b5c0fa6b-a19c-4049-bbea-77138313c22d',\n",
              " 14: '8e2a5a9c-170f-4650-a496-d8a922d3295f',\n",
              " 15: '9e50913b-8f12-411c-9421-08876203f1a1',\n",
              " 16: '69703824-2dac-4a8f-a610-6cd707122e7a',\n",
              " 17: '0f3c274c-b2df-442d-af0c-d2b0ab0d8c0c',\n",
              " 18: '0c13a299-5638-46bd-8903-b830ffc361f5',\n",
              " 19: 'af36023d-1827-4c6a-875e-ed05d22bf754',\n",
              " 20: '85f83fe7-33a8-4e13-aeaa-5e0c99b2f13d',\n",
              " 21: 'a22cea2a-4a72-4cef-9926-a8262fea7be2',\n",
              " 22: '93c3c75a-5f5b-4e7f-8ee0-a874d3839148',\n",
              " 23: '7eccb15f-de14-4ccf-b795-1020b25d736e',\n",
              " 24: 'f654cb77-f01f-41f2-96c2-48530cad8013',\n",
              " 25: '5fc91128-87e6-49fc-a607-e7b80ec611b3',\n",
              " 26: 'a7b1c4f2-987f-4e57-9f1e-2d2eeba8f38e',\n",
              " 27: 'cfc3b49b-f0a1-499c-8c86-0b05d96c9181',\n",
              " 28: 'f0d2df02-7c35-4782-89a1-c97c5521783c',\n",
              " 29: 'ba045ea8-8df2-4744-a5a0-550e3bd9d8f3',\n",
              " 30: 'dcf5ede1-8c90-46c3-9728-420107942cb7',\n",
              " 31: 'b9ae8bb2-1f4b-4f2a-a110-de92e4c1ba15',\n",
              " 32: '756b7687-a180-4ead-9f2e-ba973282ec76',\n",
              " 33: '1d853b87-f9c9-429b-9c4b-b6a42b8a29a0',\n",
              " 34: 'c46f8a89-38a5-4867-a81e-1c12c8e54600',\n",
              " 35: '89b80778-fa66-40a5-8b6f-01d76f1a555e',\n",
              " 36: '3c3ad504-1363-49d5-80ef-d31871e09de6',\n",
              " 37: 'd5ab27f8-5c62-477f-a9f8-0c1216458815',\n",
              " 38: '20a4122b-2952-42f6-93f3-05b67afad07b',\n",
              " 39: '79518a7e-546f-45f2-a4d8-4381053264b5',\n",
              " 40: 'bef5cffa-b332-4e73-b36c-b60e7ecbc809',\n",
              " 41: '88d449d9-8752-4333-88a0-b3bcdf2bf31b',\n",
              " 42: '3da966a8-efe4-4e96-a6d8-758ee9dd9281',\n",
              " 43: '2d220a51-24e0-4bd5-858c-4e758e03a5c7',\n",
              " 44: '3db3c2ed-4ccb-4c2b-9764-4985143350a2',\n",
              " 45: '5954f4ed-9382-42e1-b7c7-65d648c324a3',\n",
              " 46: '83e27bf6-8e49-4b5e-a310-11bfc3c2739c',\n",
              " 47: '92f346b6-0fde-4485-922a-755d81d2ad27',\n",
              " 48: '61e699a3-3fae-4904-86b4-5561aba3efcf',\n",
              " 49: '463e8a47-8c79-4e03-af4c-bb6587caf1ad',\n",
              " 50: '96c5772a-b13f-4e6c-86c0-f261dd9d3d29',\n",
              " 51: '0ab1df7f-4e6b-4611-9bfb-f1baa700280b',\n",
              " 52: '7aa25d1f-a8dc-4457-a3e1-048a35bea9fa'}"
            ]
          },
          "metadata": {},
          "execution_count": 12
        }
      ]
    },
    {
      "cell_type": "code",
      "source": [
        "#fectch document through vector id\n",
        "vector_store.get_by_ids(['99a95e3e-0f46-4004-b83e-fdb1e00033c3'])"
      ],
      "metadata": {
        "colab": {
          "base_uri": "https://localhost:8080/"
        },
        "id": "XGrkDScw1xaY",
        "outputId": "5acc1c79-d638-4bc2-e142-0f3408734830"
      },
      "execution_count": 13,
      "outputs": [
        {
          "output_type": "execute_result",
          "data": {
            "text/plain": [
              "[]"
            ]
          },
          "metadata": {},
          "execution_count": 13
        }
      ]
    },
    {
      "cell_type": "markdown",
      "source": [
        "**Step 2 - Retrieval**"
      ],
      "metadata": {
        "id": "sfEGg9fe2d_f"
      }
    },
    {
      "cell_type": "code",
      "source": [
        "#create a retriever object\n",
        "retriever =  vector_store.as_retriever(search_type = \"similarity\", search_kwargs = {\"k\": 4})"
      ],
      "metadata": {
        "id": "sJ0Jskwh2fRA"
      },
      "execution_count": 14,
      "outputs": []
    },
    {
      "cell_type": "code",
      "source": [
        "retriever"
      ],
      "metadata": {
        "colab": {
          "base_uri": "https://localhost:8080/"
        },
        "id": "PIpU5ST64_rc",
        "outputId": "c19c9aa3-03e7-46ac-d7af-b2a2ff06a1a7"
      },
      "execution_count": 15,
      "outputs": [
        {
          "output_type": "execute_result",
          "data": {
            "text/plain": [
              "VectorStoreRetriever(tags=['FAISS', 'GoogleGenerativeAIEmbeddings'], vectorstore=<langchain_community.vectorstores.faiss.FAISS object at 0x7bb5f13a2270>, search_kwargs={'k': 4})"
            ]
          },
          "metadata": {},
          "execution_count": 15
        }
      ]
    },
    {
      "cell_type": "code",
      "source": [
        "retriever.invoke(\"when taj mahal was built?\")"
      ],
      "metadata": {
        "colab": {
          "base_uri": "https://localhost:8080/"
        },
        "id": "IECFx3sC5Bin",
        "outputId": "f7fc6353-a69b-4cf6-cd98-b50f40f6df8f"
      },
      "execution_count": 16,
      "outputs": [
        {
          "output_type": "execute_result",
          "data": {
            "text/plain": [
              "[Document(id='c46f8a89-38a5-4867-a81e-1c12c8e54600', metadata={}, page_content=\"Mahal remains one of the most stable monuments\\xa0\\xa0 in the Indo-Islamic world thanks to revolutionary\\xa0\\nconstruction techniques. The Taj Mahal represents\\xa0\\xa0 an amalgamation of construction techniques\\xa0\\nwhich do not only come from India. They are\\xa0\\xa0 also imported from Central Asia, from the Iranian\\xa0\\nworld. These are notably used in the construction\\xa0\\xa0 of military works, forts and also dams. The\\xa0\\nfoundations of the mausoleum are inspired by\\xa0\\xa0 military architecture and civil engineering and\\xa0\\nare intended to be indestructible. They represent\\xa0\\xa0 the most successful construction techniques of\\xa0\\nAsia at the time of the Emperor Shah Jahan. The\\xa0\\xa0 Taj Mahal was built by the Emperor Shah Jahan\\xa0\\n400 years ago, after the death of his wife.\\xa0\\xa0 Today it's a symbol of beauty. Millions of\\xa0\\nvisitors come every year to admire this icon\\xa0\\xa0 of perfection. But what is the secret\\xa0\\nto its appearance? This architectural\\xa0\\xa0 masterpiece shines because of the marble\"),\n",
              " Document(id='9909858a-fdff-4de6-8173-7242135e48fa', metadata={}, page_content=\"Documentary In the north of India, in the city of Agra,\\xa0\\nstands the Taj Mahal, a monumental mausoleum\\xa0\\xa0 of white marble built almost 400 years ago on the\\xa0\\nbanks of the sacred Yamuna River. I don't think a\\xa0\\xa0 building like this will ever be created again. The\\xa0\\ndome of this mythical building towers 73 meters,\\xa0\\xa0 marking the heart of a vast architectural complex\\xa0\\nstretching 177,000 square meters. It's absolutely\\xa0\\xa0 grand in scale. So the Taj can really be seen\\xa0\\nfrom the moon or from two centimeters away,\\xa0\\xa0 and it's perfect. The Taj Mahal is a symbol\\xa0\\nof perfection. The Mughal emperor Shah Jahan\\xa0\\xa0 ordered it built in the 17th century as a monument\\xa0\\nof love, in memory of his wife Mumtaz Mahal. Today\\xa0\\xa0 it is one of the ten most visited monuments in\\xa0\\nthe world with nearly 7 million visitors each\\xa0\\xa0 year. The extraordinary mausoleum took builders\\xa0\\njust 18 years to complete and is considered one\\xa0\\xa0 of the seven wonders of the modern world. It\"),\n",
              " Document(id='0b06bfbe-f609-4ca2-9ace-d9866841fbc5', metadata={}, page_content=\"did builders manage to construct a monument of\\xa0\\xa0 this magnitude on the unstable banks of a river,\\xa0\\neven though the mausoleum alone weighs 25,000\\xa0\\xa0 tons. The building managed to survive all kinds\\xa0\\nof floods, earthquakes, and heavy rains. History,\\xa0\\xa0 science, engineering, exposed as never before,\\xa0\\nthe Taj Mahal finally reveals reveals itself\\xa0\\xa0 on every scale. The Taj Mahal was built nearly\\xa0\\n400 years ago at the heart of the city of Agra,\\xa0\\xa0 the former capital of the Mughal Empire.\\xa0\\nThe marble mausoleum is octagonal in shape,\\xa0\\xa0 stretching 58 meters on each side and soaring\\xa0\\n73 meters tall, sitting on a base almost 100\\xa0\\xa0 meters long. Taj Mahal, in many ways, is\\xa0\\nhyperreal. While we are in this reality,\\xa0\\xa0 we are experiencing something that is completely\\xa0\\nout of this world. I don't think a building like\\xa0\\xa0 this will ever be created again. Today, the\\xa0\\nTaj Mahal is listed as a World Heritage Site.\\xa0\\xa0 It is a masterpiece of architecture, and I\"),\n",
              " Document(id='97090c61-6bb4-4187-bfeb-f23e80e4f2f3', metadata={}, page_content=\"out of this world. I don't think a building like\\xa0\\xa0 this will ever be created again. Today, the\\xa0\\nTaj Mahal is listed as a World Heritage Site.\\xa0\\xa0 It is a masterpiece of architecture, and I\\xa0\\nthink it was built as a masterpiece. I love this\\xa0\\xa0 building because it transports me into a different\\xa0\\nrealm and again to realize that such a complex\\xa0\\xa0 piece of construction can be executed in a short\\xa0\\ntime. How did builders complete the construction\\xa0\\xa0 of one of the greatest architectural complexes in\\xa0\\nthe Indian world in just 18 years? When visitors\\xa0\\xa0 discover the Taj Mahal, they're impressed by\\xa0\\nthe grandeur of the monument and its richness,\\xa0\\xa0 with all the materials that are used in its\\xa0\\nconstruction, the marble in particular. But\\xa0\\xa0 that's actually just a shell, an envelope. What\\xa0\\nmost people don't realize about the Taj Mahal is\\xa0\\xa0 that it is not a building built in marble. Clues\\xa0\\nto expose the secrets of its rapid construction\\xa0\\xa0 can be found in New Delhi, 200 kilometers\")]"
            ]
          },
          "metadata": {},
          "execution_count": 16
        }
      ]
    },
    {
      "cell_type": "markdown",
      "source": [
        "**Step 3 - Augmentation**"
      ],
      "metadata": {
        "id": "wSwJJMnT5hzU"
      }
    },
    {
      "cell_type": "code",
      "source": [
        "llm = ChatGoogleGenerativeAI(model = \"gemini-2.0-flash\", temperature = 0.2)"
      ],
      "metadata": {
        "id": "QGqG5tyX5jzA"
      },
      "execution_count": 17,
      "outputs": []
    },
    {
      "cell_type": "code",
      "source": [
        "prompt = PromptTemplate(\n",
        "    template = \"\"\"You are a helpful assistant.\n",
        "      Answer ONLY from the provided transcript context.\n",
        "      If the context is insufficient, just say you don't know.\n",
        "      Context: {context}\n",
        "      Question: {question}\n",
        "      \"\"\",\n",
        "    input_variables = [\"context\", \"question\"]\n",
        ")"
      ],
      "metadata": {
        "id": "pEAfJ0Ms6q-0"
      },
      "execution_count": 18,
      "outputs": []
    },
    {
      "cell_type": "code",
      "source": [
        "question = \"explain the video summary in 5 lines and start each line with numbers sequence?\"\n",
        "retrieved_docs = retriever.invoke(question)"
      ],
      "metadata": {
        "id": "nhDzoZCJ7LK8"
      },
      "execution_count": 19,
      "outputs": []
    },
    {
      "cell_type": "code",
      "source": [
        "retrieved_docs"
      ],
      "metadata": {
        "colab": {
          "base_uri": "https://localhost:8080/"
        },
        "id": "hBY8Wq4X7ch3",
        "outputId": "1a8e4506-0989-4297-e2b3-90faac5b9692"
      },
      "execution_count": 20,
      "outputs": [
        {
          "output_type": "execute_result",
          "data": {
            "text/plain": [
              "[Document(id='463e8a47-8c79-4e03-af4c-bb6587caf1ad', metadata={}, page_content=\"And so it's like a teaser. And once you get to\\xa0\\xa0 that entrance, suddenly it really comes up upon\\xa0\\nyou. A symbolic passage from the terrestrial world\\xa0\\xa0 to the celestial. Inside the final enclosure,\\xa0\\nsatellite images upon you. A symbolic passage from\\xa0\\xa0 the terrestrial world to the celestial. Inside the\\xa0\\nfinal enclosure, satellite images reveal that the\\xa0\\xa0 garden is divided by four water channels. The Holy\\xa0\\nQuran repeatedly promises the faithful gardens\\xa0\\xa0 beneath which rivers flow as their final resting\\xa0\\nspace. So paradise is really defined by the four\\xa0\\xa0 rivers of paradise, but that is most evident at\\xa0\\nthe Taj Mahal, where the water flowing represents\\xa0\\xa0 the four rivers of paradise. The mausoleum itself\\xa0\\nis an octagon, a significant choice. The Holy\\xa0\\xa0 Quran talks about the eight gateways of paradise,\\xa0\\nand the central tomb chamber at the Taj Mahal is\\xa0\\xa0 surrounded by eight chambers, which represent the\"),\n",
              " Document(id='85f83fe7-33a8-4e13-aeaa-5e0c99b2f13d', metadata={}, page_content='is important is the central line is north-south,\\xa0\\xa0 true north to true south aligned. And\\xa0\\nalso Taj Mahal is placed at the top end,\\xa0\\xa0 north end of the layout. Why is the Taj Mahal not\\xa0\\nin the center of this complex when the architects\\xa0\\xa0 of the time based everything on balance? Is this\\xa0\\na mistake or an aesthetic choice? New technology,\\xa0\\xa0 such as the analysis of satellite images, makes it\\xa0\\npossible to reinterpret the layout of the monument\\xa0\\xa0 and reveal clues about what the site, obscuring\\xa0\\nany remnants of the past. A location where people\\xa0\\xa0 continue to live gets built over, gets reused and\\xa0\\nredone. But seeing a satellite image, we are able\\xa0\\xa0 to see the larger layout. So my work can show what\\xa0\\nhas been the evolution of how the landscape has\\xa0\\xa0 been used from the time it was initially built\\xa0\\ntill now. So if you look at a satellite image,\\xa0\\xa0 the area south of the main entrance of Taj\\xa0\\nMahal also has a pattern, a square pattern,\\xa0\\xa0 which is of the same measurement as one of'),\n",
              " Document(id='b9ae8bb2-1f4b-4f2a-a110-de92e4c1ba15', metadata={}, page_content=\"it's made of. We can achieve a magnification of\\xa0\\xa0 between 10,000 and 50,000, compared to optical\\xa0\\nmicroscopes, which reach a magnification of just\\xa0\\xa0 1,500. The microscopic study reveals that this\\xa0\\nmortar is not only made of minerals. We can see\\xa0\\xa0 that the mortar is also made up of small grains,\\xa0\\nwhose appearance is reminiscent of the morphology\\xa0\\xa0 of plants. And probably it's actually seeds. It's\\xa0\\nquite surprising to find plant debris in mortar.\\xa0\\xa0 Several types of plants have been identified. I\\xa0\\nalso isolated black particles. It's hard to tell\\xa0\\xa0 if they are mineral or plant species. But they\\xa0\\ncould be spices, like pepper, for example. By\\xa0\\xa0 analyzing the composition of the mortar under\\xa0\\nthe microscope, scientists have discovered the\\xa0\\xa0 presence of many natural materials. Sugar, spices,\\xa0\\nchickpea flour, a local fruit, and tree resin.\\xa0\\xa0 Investigators have shown that the ingredients have\\xa0\\nhighly impermeable properties. This analysis of\\xa0\\xa0 the mortar, coupled with the analysis and mapping\"),\n",
              " Document(id='96c5772a-b13f-4e6c-86c0-f261dd9d3d29', metadata={}, page_content=\"and the central tomb chamber at the Taj Mahal is\\xa0\\xa0 surrounded by eight chambers, which represent the\\xa0\\nHasht Bheesh, or the eight gateways of paradise.\\xa0\\xa0 The dome and the minarets represent the ascent of\\xa0\\nsouls to heaven. Even the imperfections found here\\xa0\\xa0 demonstrate the desire to represent paradise on\\xa0\\nearth. They believe that only God can be perfect.\\xa0\\xa0 Human beings are not perfect. And very often,\\xa0\\nthey do induce a small element of imperfection to\\xa0\\xa0 keep up to that work. The Taj Mahal is an icon of\\xa0\\nbeauty. Its stunning symmetry, exquisite detail,\\xa0\\xa0 and gleaming finish make this monument unique. I\\xa0\\nthink the Taj Mahal is an incredible building that\\xa0\\xa0 has caught the people's imagination for almost 400\\xa0\\nyears. New technology has allowed scientists to\\xa0\\xa0 carry out a complete reassessment of the Taj Mahal\\xa0\\nand its grounds. Studying its foundations reveal\\xa0\\xa0 that the builders used techniques from civil and\")]"
            ]
          },
          "metadata": {},
          "execution_count": 20
        }
      ]
    },
    {
      "cell_type": "code",
      "source": [
        "context_text = \"\\n\\n\".join(doc.page_content for doc in retrieved_docs)\n",
        "context_text"
      ],
      "metadata": {
        "colab": {
          "base_uri": "https://localhost:8080/",
          "height": 140
        },
        "id": "66ePK_2DJ4wd",
        "outputId": "b7769bd0-56ca-4c41-bda2-335d8be38626"
      },
      "execution_count": 21,
      "outputs": [
        {
          "output_type": "execute_result",
          "data": {
            "text/plain": [
              "\"And so it's like a teaser. And once you get to\\xa0\\xa0 that entrance, suddenly it really comes up upon\\xa0\\nyou. A symbolic passage from the terrestrial world\\xa0\\xa0 to the celestial. Inside the final enclosure,\\xa0\\nsatellite images upon you. A symbolic passage from\\xa0\\xa0 the terrestrial world to the celestial. Inside the\\xa0\\nfinal enclosure, satellite images reveal that the\\xa0\\xa0 garden is divided by four water channels. The Holy\\xa0\\nQuran repeatedly promises the faithful gardens\\xa0\\xa0 beneath which rivers flow as their final resting\\xa0\\nspace. So paradise is really defined by the four\\xa0\\xa0 rivers of paradise, but that is most evident at\\xa0\\nthe Taj Mahal, where the water flowing represents\\xa0\\xa0 the four rivers of paradise. The mausoleum itself\\xa0\\nis an octagon, a significant choice. The Holy\\xa0\\xa0 Quran talks about the eight gateways of paradise,\\xa0\\nand the central tomb chamber at the Taj Mahal is\\xa0\\xa0 surrounded by eight chambers, which represent the\\n\\nis important is the central line is north-south,\\xa0\\xa0 true north to true south aligned. And\\xa0\\nalso Taj Mahal is placed at the top end,\\xa0\\xa0 north end of the layout. Why is the Taj Mahal not\\xa0\\nin the center of this complex when the architects\\xa0\\xa0 of the time based everything on balance? Is this\\xa0\\na mistake or an aesthetic choice? New technology,\\xa0\\xa0 such as the analysis of satellite images, makes it\\xa0\\npossible to reinterpret the layout of the monument\\xa0\\xa0 and reveal clues about what the site, obscuring\\xa0\\nany remnants of the past. A location where people\\xa0\\xa0 continue to live gets built over, gets reused and\\xa0\\nredone. But seeing a satellite image, we are able\\xa0\\xa0 to see the larger layout. So my work can show what\\xa0\\nhas been the evolution of how the landscape has\\xa0\\xa0 been used from the time it was initially built\\xa0\\ntill now. So if you look at a satellite image,\\xa0\\xa0 the area south of the main entrance of Taj\\xa0\\nMahal also has a pattern, a square pattern,\\xa0\\xa0 which is of the same measurement as one of\\n\\nit's made of. We can achieve a magnification of\\xa0\\xa0 between 10,000 and 50,000, compared to optical\\xa0\\nmicroscopes, which reach a magnification of just\\xa0\\xa0 1,500. The microscopic study reveals that this\\xa0\\nmortar is not only made of minerals. We can see\\xa0\\xa0 that the mortar is also made up of small grains,\\xa0\\nwhose appearance is reminiscent of the morphology\\xa0\\xa0 of plants. And probably it's actually seeds. It's\\xa0\\nquite surprising to find plant debris in mortar.\\xa0\\xa0 Several types of plants have been identified. I\\xa0\\nalso isolated black particles. It's hard to tell\\xa0\\xa0 if they are mineral or plant species. But they\\xa0\\ncould be spices, like pepper, for example. By\\xa0\\xa0 analyzing the composition of the mortar under\\xa0\\nthe microscope, scientists have discovered the\\xa0\\xa0 presence of many natural materials. Sugar, spices,\\xa0\\nchickpea flour, a local fruit, and tree resin.\\xa0\\xa0 Investigators have shown that the ingredients have\\xa0\\nhighly impermeable properties. This analysis of\\xa0\\xa0 the mortar, coupled with the analysis and mapping\\n\\nand the central tomb chamber at the Taj Mahal is\\xa0\\xa0 surrounded by eight chambers, which represent the\\xa0\\nHasht Bheesh, or the eight gateways of paradise.\\xa0\\xa0 The dome and the minarets represent the ascent of\\xa0\\nsouls to heaven. Even the imperfections found here\\xa0\\xa0 demonstrate the desire to represent paradise on\\xa0\\nearth. They believe that only God can be perfect.\\xa0\\xa0 Human beings are not perfect. And very often,\\xa0\\nthey do induce a small element of imperfection to\\xa0\\xa0 keep up to that work. The Taj Mahal is an icon of\\xa0\\nbeauty. Its stunning symmetry, exquisite detail,\\xa0\\xa0 and gleaming finish make this monument unique. I\\xa0\\nthink the Taj Mahal is an incredible building that\\xa0\\xa0 has caught the people's imagination for almost 400\\xa0\\nyears. New technology has allowed scientists to\\xa0\\xa0 carry out a complete reassessment of the Taj Mahal\\xa0\\nand its grounds. Studying its foundations reveal\\xa0\\xa0 that the builders used techniques from civil and\""
            ],
            "application/vnd.google.colaboratory.intrinsic+json": {
              "type": "string"
            }
          },
          "metadata": {},
          "execution_count": 21
        }
      ]
    },
    {
      "cell_type": "code",
      "source": [
        "#invoke prompt\n",
        "final_prompt = prompt.invoke({\"context\": context_text, \"question\": question})\n",
        "final_prompt"
      ],
      "metadata": {
        "colab": {
          "base_uri": "https://localhost:8080/"
        },
        "id": "4_S_VF1QKMva",
        "outputId": "82db1005-db92-4964-ca3e-1e17267aff55"
      },
      "execution_count": 22,
      "outputs": [
        {
          "output_type": "execute_result",
          "data": {
            "text/plain": [
              "StringPromptValue(text=\"You are a helpful assistant.\\n      Answer ONLY from the provided transcript context.\\n      If the context is insufficient, just say you don't know.\\n      Context: And so it's like a teaser. And once you get to\\xa0\\xa0 that entrance, suddenly it really comes up upon\\xa0\\nyou. A symbolic passage from the terrestrial world\\xa0\\xa0 to the celestial. Inside the final enclosure,\\xa0\\nsatellite images upon you. A symbolic passage from\\xa0\\xa0 the terrestrial world to the celestial. Inside the\\xa0\\nfinal enclosure, satellite images reveal that the\\xa0\\xa0 garden is divided by four water channels. The Holy\\xa0\\nQuran repeatedly promises the faithful gardens\\xa0\\xa0 beneath which rivers flow as their final resting\\xa0\\nspace. So paradise is really defined by the four\\xa0\\xa0 rivers of paradise, but that is most evident at\\xa0\\nthe Taj Mahal, where the water flowing represents\\xa0\\xa0 the four rivers of paradise. The mausoleum itself\\xa0\\nis an octagon, a significant choice. The Holy\\xa0\\xa0 Quran talks about the eight gateways of paradise,\\xa0\\nand the central tomb chamber at the Taj Mahal is\\xa0\\xa0 surrounded by eight chambers, which represent the\\n\\nis important is the central line is north-south,\\xa0\\xa0 true north to true south aligned. And\\xa0\\nalso Taj Mahal is placed at the top end,\\xa0\\xa0 north end of the layout. Why is the Taj Mahal not\\xa0\\nin the center of this complex when the architects\\xa0\\xa0 of the time based everything on balance? Is this\\xa0\\na mistake or an aesthetic choice? New technology,\\xa0\\xa0 such as the analysis of satellite images, makes it\\xa0\\npossible to reinterpret the layout of the monument\\xa0\\xa0 and reveal clues about what the site, obscuring\\xa0\\nany remnants of the past. A location where people\\xa0\\xa0 continue to live gets built over, gets reused and\\xa0\\nredone. But seeing a satellite image, we are able\\xa0\\xa0 to see the larger layout. So my work can show what\\xa0\\nhas been the evolution of how the landscape has\\xa0\\xa0 been used from the time it was initially built\\xa0\\ntill now. So if you look at a satellite image,\\xa0\\xa0 the area south of the main entrance of Taj\\xa0\\nMahal also has a pattern, a square pattern,\\xa0\\xa0 which is of the same measurement as one of\\n\\nit's made of. We can achieve a magnification of\\xa0\\xa0 between 10,000 and 50,000, compared to optical\\xa0\\nmicroscopes, which reach a magnification of just\\xa0\\xa0 1,500. The microscopic study reveals that this\\xa0\\nmortar is not only made of minerals. We can see\\xa0\\xa0 that the mortar is also made up of small grains,\\xa0\\nwhose appearance is reminiscent of the morphology\\xa0\\xa0 of plants. And probably it's actually seeds. It's\\xa0\\nquite surprising to find plant debris in mortar.\\xa0\\xa0 Several types of plants have been identified. I\\xa0\\nalso isolated black particles. It's hard to tell\\xa0\\xa0 if they are mineral or plant species. But they\\xa0\\ncould be spices, like pepper, for example. By\\xa0\\xa0 analyzing the composition of the mortar under\\xa0\\nthe microscope, scientists have discovered the\\xa0\\xa0 presence of many natural materials. Sugar, spices,\\xa0\\nchickpea flour, a local fruit, and tree resin.\\xa0\\xa0 Investigators have shown that the ingredients have\\xa0\\nhighly impermeable properties. This analysis of\\xa0\\xa0 the mortar, coupled with the analysis and mapping\\n\\nand the central tomb chamber at the Taj Mahal is\\xa0\\xa0 surrounded by eight chambers, which represent the\\xa0\\nHasht Bheesh, or the eight gateways of paradise.\\xa0\\xa0 The dome and the minarets represent the ascent of\\xa0\\nsouls to heaven. Even the imperfections found here\\xa0\\xa0 demonstrate the desire to represent paradise on\\xa0\\nearth. They believe that only God can be perfect.\\xa0\\xa0 Human beings are not perfect. And very often,\\xa0\\nthey do induce a small element of imperfection to\\xa0\\xa0 keep up to that work. The Taj Mahal is an icon of\\xa0\\nbeauty. Its stunning symmetry, exquisite detail,\\xa0\\xa0 and gleaming finish make this monument unique. I\\xa0\\nthink the Taj Mahal is an incredible building that\\xa0\\xa0 has caught the people's imagination for almost 400\\xa0\\nyears. New technology has allowed scientists to\\xa0\\xa0 carry out a complete reassessment of the Taj Mahal\\xa0\\nand its grounds. Studying its foundations reveal\\xa0\\xa0 that the builders used techniques from civil and\\n      Question: explain the video summary in 5 lines and start each line with numbers sequence?\\n      \")"
            ]
          },
          "metadata": {},
          "execution_count": 22
        }
      ]
    },
    {
      "cell_type": "markdown",
      "source": [
        "**Step 4 - Generation**"
      ],
      "metadata": {
        "id": "fgAKhKv-LiAd"
      }
    },
    {
      "cell_type": "code",
      "source": [
        "#invoke model\n",
        "answer = llm.invoke(final_prompt)\n",
        "print(answer.content)"
      ],
      "metadata": {
        "colab": {
          "base_uri": "https://localhost:8080/"
        },
        "id": "uQ6ncw3mLjkg",
        "outputId": "3c2169f2-df23-43ea-fc84-e9f2253de6c7"
      },
      "execution_count": 23,
      "outputs": [
        {
          "output_type": "stream",
          "name": "stdout",
          "text": [
            "1.  The Taj Mahal is designed as a symbolic passage from the terrestrial world to the celestial, with its garden divided by four water channels representing the rivers of paradise.\n",
            "2.  The mausoleum's octagonal shape and eight surrounding chambers symbolize the eight gateways of paradise.\n",
            "3.  Satellite images and new technology allow for reinterpretation of the monument's layout and reveal clues about the site's evolution.\n",
            "4.  Microscopic study of the mortar reveals surprising ingredients like plant debris, seeds, sugar, spices, chickpea flour, local fruit, and tree resin.\n",
            "5.  These natural materials in the mortar have highly impermeable properties, contributing to the Taj Mahal's longevity.\n"
          ]
        }
      ]
    },
    {
      "cell_type": "markdown",
      "source": [
        "**Building a Chain**"
      ],
      "metadata": {
        "id": "pNSUKG9XPscd"
      }
    },
    {
      "cell_type": "code",
      "source": [
        "#import libraries\n",
        "from langchain_core.runnables import RunnablePassthrough, RunnableParallel, RunnableLambda"
      ],
      "metadata": {
        "id": "3yRNmoHSM17E"
      },
      "execution_count": 24,
      "outputs": []
    },
    {
      "cell_type": "code",
      "source": [
        "def format_docs(retrieved_docs):\n",
        "  context_text = \"\\n\\n\".join(doc.page_content for doc in retrieved_docs)\n",
        "  return context_text"
      ],
      "metadata": {
        "id": "0SRb0JYCQD7J"
      },
      "execution_count": 25,
      "outputs": []
    },
    {
      "cell_type": "code",
      "source": [
        "parallel_chain = RunnableParallel({\n",
        "    'context': retriever | RunnableLambda(format_docs),\n",
        "    'question': RunnablePassthrough()\n",
        "})"
      ],
      "metadata": {
        "id": "5EWh1jPtRQZl"
      },
      "execution_count": 26,
      "outputs": []
    },
    {
      "cell_type": "code",
      "source": [
        "# parallel_chain.invoke(\"who is dhruv rathee\")"
      ],
      "metadata": {
        "id": "Husbi3M0SCcd"
      },
      "execution_count": 27,
      "outputs": []
    },
    {
      "cell_type": "code",
      "source": [
        "parser = StrOutputParser()"
      ],
      "metadata": {
        "id": "1P8gtNjLSj_U"
      },
      "execution_count": 28,
      "outputs": []
    },
    {
      "cell_type": "code",
      "source": [
        "main_chain = parallel_chain | prompt | llm | parser"
      ],
      "metadata": {
        "id": "avMU0gMMllC4"
      },
      "execution_count": 29,
      "outputs": []
    },
    {
      "cell_type": "code",
      "source": [
        "result = main_chain.invoke(\"tell me the summary of this video?\")\n",
        "print(result)"
      ],
      "metadata": {
        "colab": {
          "base_uri": "https://localhost:8080/"
        },
        "id": "ZMBlvXIbktO7",
        "outputId": "a713b557-a7eb-4caa-8638-8b318a1c87b2"
      },
      "execution_count": 30,
      "outputs": [
        {
          "output_type": "stream",
          "name": "stdout",
          "text": [
            "The Taj Mahal's layout and construction are examined using satellite images and microscopic analysis. The satellite images reveal a pattern south of the main entrance, and the Taj Mahal is at the north end of the layout. The analysis of the mortar reveals it's made of minerals, plants, seeds, and possibly spices, like pepper. The ingredients have highly impermeable properties.\n"
          ]
        }
      ]
    },
    {
      "cell_type": "code",
      "source": [],
      "metadata": {
        "id": "tuUMSHYpTl1e"
      },
      "execution_count": 30,
      "outputs": []
    }
  ]
}